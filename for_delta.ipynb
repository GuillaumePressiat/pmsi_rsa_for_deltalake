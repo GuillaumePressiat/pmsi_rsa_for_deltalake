{
 "cells": [
  {
   "cell_type": "raw",
   "id": "df745258-7f69-4ba7-87d3-9b820948f283",
   "metadata": {},
   "source": [
    "---\n",
    "title: 'Intégration des rsa au format delta table avec { pypmsi, polars / spark }'\n",
    "author: 'gpr'\n",
    "date: 2024-09-08\n",
    "format:\n",
    "  html:\n",
    "    embed-resources: true\n",
    "    grid: \n",
    "      body-width: 1700px\n",
    "      sidebar-width: 400px\n",
    "      margin-width: 400px\n",
    "    toc: true\n",
    "    toc-title: Table des matières\n",
    "highlight-style: printing\n",
    "code-block-bg: \"#F5F5F5\"\n",
    "code-line-numbers: false\n",
    "code-block-border-left: \"#31BAE9\"\n",
    "---"
   ]
  },
  {
   "cell_type": "markdown",
   "id": "e8766527-a4c1-4581-b2fe-807be0a8c0a1",
   "metadata": {},
   "source": [
    "\n",
    "\n",
    "\n",
    "<br>\n",
    "\n",
    "# Objectif\n",
    "\n",
    "L'objectif de ce travail était de tester la faisabilité d'harmoniser les 4 tables de RSA sur l'historique 2013 -- 2023 pour les intégrer dans un schéma homogène de données souhaité par Delta Lake (il est souhaité / préférable que le type, l'ordre et le nom des colonnes soient identiques pour faire du APPEND ; c'est en tout cas le cas avec `polars`).\n",
    "\n",
    "- La première partie de ce document se concentre sur cette partie de normalisation des données (au sens où on les force à avoir toutes le même format d'année en année\n",
    "- La 2ème partie teste l'intégration des données RSA de 2013 M12 à 2023 M12 sous forme de fichiers parquet écrit avec le module polars\n",
    "- La 3ème partie comprend des tests de requêtage des données avec polars uniquement ; une fonction `remote_table('rsa@rsa')` permet d'accéder aux données via un `LazyFrame` polars flêchant vers les fichiers parquet\n",
    "- La dernière partie montre le contenu d'un des fichiers json qui historise les étapes d'alimentations de la table `rsa@rsa` au format Delta\n",
    "\n",
    "Au cours de ce test, un partitionnement par année-mois a été expérimenté mais les temps de requêtages étaient augmentés de manière importante (* 4, selon les volumes intégrés). L'option de mono-partition semble préférable tant que les volumes de données sont raisonnables.\n",
    "\n",
    "Cette étape d'intégration en gardant toutes les colonnes des données PMSI sans en exclure aucune pourrait correspondre à l'étape de la couche bronze du lac de données, avec les données brutes associées.\n",
    "\n",
    "N'ont pas été fait : \n",
    "\n",
    "- tester la commande SQL `ADD COLUMN` / `ALTER TABLE` sur certaines tables si les formats 2024 des données PMSI changeait, et pour les années à suivre.\n",
    "- créer la clé primaire contenant l'année de sortie et le numéro de RSS accolés permettant d'avoir une unicité dans les relations\n",
    "- tester la même chose sur les RSS, la même donnée contenant le lien avec les passages dans les unités médicales, mais cela peut être adapté de manière très similaire\n",
    "\n",
    "\n",
    "<br>\n",
    "\n"
   ]
  },
  {
   "cell_type": "code",
   "execution_count": 1,
   "id": "624f3897-883c-46e2-8ef1-75d1ef6f302e",
   "metadata": {},
   "outputs": [],
   "source": [
    "import pandas as pd\n",
    "import polars as pl\n",
    "import pypmsi as pm\n",
    "\n",
    "import pyspark\n",
    "from delta import *\n",
    "from delta.tables import *\n",
    "from pyspark.sql.functions import *\n"
   ]
  },
  {
   "cell_type": "markdown",
   "id": "f426354c-0355-4ef6-9286-b3079ce14131",
   "metadata": {},
   "source": [
    "# Intégrations"
   ]
  },
  {
   "cell_type": "markdown",
   "id": "28c913c7-e572-4d09-b320-6c6e09930324",
   "metadata": {},
   "source": [
    "## Paramètres"
   ]
  },
  {
   "cell_type": "code",
   "execution_count": 2,
   "id": "75b82dc9-9c6f-43b1-8d20-eea8b97c717f",
   "metadata": {},
   "outputs": [],
   "source": [
    "p = pm.noyau_pmsi(finess = 290000017, \n",
    "              annee  = 2023,\n",
    "              mois   = 12,\n",
    "              path   = '/Users/guillaumepressiat/Documents/data/mco')\n",
    "\n",
    "#param_n_max = 1000\n",
    "param_n_max = None\n"
   ]
  },
  {
   "cell_type": "markdown",
   "id": "f923375b-5a0c-4bdf-9cf0-4a219f4ad1bb",
   "metadata": {},
   "source": [
    "## Fonctions utiles"
   ]
  },
  {
   "cell_type": "code",
   "execution_count": 3,
   "id": "6db79795-a809-4763-8624-1d8b52fa7332",
   "metadata": {},
   "outputs": [],
   "source": [
    "def normalized_schema():\n",
    "    # Définir un schéma type de données\n",
    "\n",
    "    # On récupère des années antérieures la dispersion des formats pmsi entre 2011 et 2023, \n",
    "    # cela permettra de mettre en cohérence les données sous un seul \"schéma\" avant de\n",
    "    # les insérer en delta table\n",
    "\n",
    "    rsa_temp = {'rsa' : pl.DataFrame(), 'actes' : pl.DataFrame(), 'diags' : pl.DataFrame(), 'rsa_um' : pl.DataFrame()}\n",
    "    \n",
    "    for i in range(2023, 2012, -1):\n",
    "        # print(i)\n",
    "        temp = p.irsa(annee = i, mois =  12, typi = 6, n_rows = 1000)\n",
    "        \n",
    "        # concat avec how = diagonal ici, on ajoute des colonnes si elles manquent\n",
    "        rsa_temp['rsa'] = pl.concat([rsa_temp['rsa'], temp['rsa']], how=\"diagonal\")\n",
    "        rsa_temp['actes'] = pl.concat([rsa_temp['actes'], temp['actes']], how=\"diagonal\")\n",
    "        rsa_temp['diags'] = pl.concat([rsa_temp['diags'], temp['diags']], how=\"diagonal\")\n",
    "        rsa_temp['rsa_um'] = pl.concat([rsa_temp['rsa_um'], temp['rsa_um']], how=\"diagonal\")\n",
    "\n",
    "    temp = p.irsa(annee = 2023, mois =  12, typi = 6, n_rows = 1000)\n",
    "    \n",
    "    # pour aller vite, 2023 est à part car mois = 4\n",
    "    rsa_temp['rsa'] = pl.concat([rsa_temp['rsa'], temp['rsa']], how=\"diagonal\")\n",
    "    rsa_temp['actes'] = pl.concat([rsa_temp['actes'], temp['actes']], how=\"diagonal\")\n",
    "    rsa_temp['diags'] = pl.concat([rsa_temp['diags'], temp['diags']], how=\"diagonal\")\n",
    "    rsa_temp['rsa_um'] = pl.concat([rsa_temp['rsa_um'], temp['rsa_um']], how=\"diagonal\")\n",
    "    \n",
    "    rsa_temp['rsa'] = rsa_temp['rsa'].join(p.itra(annee = 2023, mois = 12, n_rows = 1000), how = 'left', on = 'cle_rsa')\n",
    "\n",
    "    rsa_temp['rsa'] = (rsa_temp['rsa']\n",
    "     .with_columns(pl.concat_str(['ansor', 'moissor']).alias('periode'),\n",
    "                  pl.concat_str(['ansor', 'moissor']).alias('am')))\n",
    "    \n",
    "    empty = dict()\n",
    "    empty['rsa'] = pl.DataFrame(schema = rsa_temp['rsa'].schema)\n",
    "    empty['actes'] = pl.DataFrame(schema = rsa_temp['actes'].schema)\n",
    "    empty['diags'] = pl.DataFrame(schema = rsa_temp['diags'].schema)\n",
    "    empty['rsa_um'] = pl.DataFrame(schema = rsa_temp['rsa_um'].schema)\n",
    "\n",
    "    return empty\n",
    "\n",
    "def normalize_schema_rsa(dfd, table):\n",
    "    # pour appliquer le schéma type de données si il n'est pas respecté\n",
    "\n",
    "    # Sur la base des formats de toutes les années (unions permissives)\n",
    "    # on concatène les rsa d'une année avec ces formats normalisés > on génère des colonnes null\n",
    "    # pour avoir un schéma commun à toutes les années\n",
    "\n",
    "    # how = align ici, et on ordonne les colonnes si elles ne sont pas dans le même ordre\n",
    "    if table != 'rsa':\n",
    "        df = (pl.concat([dfd[table],empty[table]], how = 'align')\n",
    "              .select(sorted(empty[table].columns))\n",
    "              .join(dfd['rsa'].select('cle_rsa', 'am', 'periode', 'nas', \n",
    "                                      'norss', 'ansor', 'moissor'), \n",
    "                    on = 'cle_rsa', how = 'inner').with_columns(\n",
    "               pl.when(pl.col(pl.Utf8) == \"\")\n",
    "            .then(None)\n",
    "            .otherwise(pl.col(pl.Utf8))\n",
    "            .name.keep()\n",
    "        ))\n",
    "    else:\n",
    "        df = pl.concat([empty[table], dfd['rsa']], how = 'align').with_columns(\n",
    "            pl.when(pl.col(pl.Utf8) == \"\")\n",
    "            .then(None)\n",
    "            .otherwise(pl.col(pl.Utf8)) # keep original value\n",
    "            .name.keep()\n",
    "        ).select(sorted(empty[table].columns))\n",
    "\n",
    "    return df\n",
    "\n",
    "# on prépare les rsa d'une année (on les normalise vis-à-vis du schéma unifié\n",
    "# avec la fonction au dessus\n",
    "# + aussi ajout du fichier tra et de deux colonnes de temps\n",
    "def prepare_rsa(p, annee1, mois1, n_max = param_n_max):\n",
    "    # Lire les données et les mettre sous le bon schéma\n",
    "\n",
    "    \n",
    "    rsa = p.irsa(typi = 6, annee = annee1, mois = mois1, n_rows = n_max)\n",
    "    tra = p.itra(annee = annee1, mois = mois1, n_rows = n_max)\n",
    "    rsa['rsa'] = rsa['rsa'].join(tra, on = 'cle_rsa', how = 'inner')\n",
    "    rsa['rsa'] = (rsa['rsa']\n",
    "                  .with_columns(pl.concat_str(['ansor', 'moissor']).alias('periode'),\n",
    "                                pl.concat_str(['ansor', 'moissor']).alias('am')))\n",
    "    rsa = {k: normalize_schema_rsa(rsa, k) for k, v in rsa.items()}\n",
    "\n",
    "    return rsa\n",
    "\n",
    "\n",
    "def one_delta(dfd, table):\n",
    "    # pour écrire une des tables des rsa au format delta\n",
    "    #print(dfd[table].schema)\n",
    "    #print(dfd[table].shape)\n",
    "    \n",
    "    dfd[table].write_delta(\n",
    "        \"/Users/guillaumepressiat/Documents/data/delta/rsa/\" + table, \n",
    "        #large_dtypes = True,\n",
    "                    mode = \"append\") #, overwrite_schema = True\n",
    "\n",
    "\n",
    "def write_rsa_delta(p, annee1, mois1):\n",
    "    # pour lire les fichiers .rsa et tra, normaliser et écrire toutes les tables de rsa en delta\n",
    "    \n",
    "    temp = prepare_rsa(p, annee1, mois1)\n",
    "\n",
    "    for k in ['rsa', 'actes', 'diags', 'rsa_um']:\n",
    "        one_delta(temp, k)\n",
    "\n",
    "def remote_table(pmsi_table):\n",
    "    # pour faciliter la syntaxe, un wrapper pour accéder aux données LazyFrame\n",
    "    \n",
    "    return pl.scan_delta(\"/Users/guillaumepressiat/Documents/data/delta/\" + pmsi_table.replace('@', '/'))\n",
    "\n",
    "def count_pivot_periode(pmsi_table):\n",
    "    # tri à plat dans les fichiers delta pour observer ce qui a été intégré\n",
    "\n",
    "    tempd = remote_table(pmsi_table)\n",
    "    r = (tempd\n",
    "     .group_by('am', 'ansor', 'moissor')\n",
    "     .len()\n",
    "     .collect()\n",
    "     .sort('moissor')\n",
    "     .pivot('moissor', values = 'len', index = 'ansor',\n",
    "            aggregate_function = 'sum', maintain_order=True)\n",
    "     .sort('ansor')\n",
    "    )\n",
    "    return r\n",
    "\n",
    "\n",
    "\n",
    "def delete_in_delta(pmsi_table, string_delete):\n",
    "    # fonction pour supprimer des données dans delta table (utilise pyspark)\n",
    "    \n",
    "    dt_temp = DeltaTable.forPath(spark, '/Users/guillaumepressiat/Documents/data/delta/' + pmsi_table.replace('@', '/'))\n",
    "    dt_temp.delete(string_delete)\n"
   ]
  },
  {
   "cell_type": "markdown",
   "id": "51695a55-7b05-48ee-96a1-f046f1a22c7c",
   "metadata": {},
   "source": [
    "## Chargement des données"
   ]
  },
  {
   "cell_type": "code",
   "execution_count": 4,
   "id": "1e58cdbc-5722-43ae-8268-9c607cf4c6c3",
   "metadata": {},
   "outputs": [],
   "source": [
    "empty = normalized_schema()\n",
    "# empty['rsa'].schema"
   ]
  },
  {
   "cell_type": "code",
   "execution_count": 5,
   "id": "6ace297f-e49d-4704-97e7-b978594886b2",
   "metadata": {},
   "outputs": [],
   "source": [
    "# de 2011 M12 à 2022 M12\n",
    "for i in range(2013, 2024):\n",
    "    # print(i)\n",
    "    write_rsa_delta(p, i, 12)\n"
   ]
  },
  {
   "cell_type": "code",
   "execution_count": 6,
   "id": "04b5dee8-d1fd-4d9b-b838-cf2c70955c94",
   "metadata": {},
   "outputs": [],
   "source": [
    "# 2024 M07, année en cours, séparemment\n",
    "# write_rsa_delta(p, 2024, 7)"
   ]
  },
  {
   "cell_type": "code",
   "execution_count": 7,
   "id": "e928f16d-df90-4ea4-bef0-1be1fe18cf14",
   "metadata": {},
   "outputs": [],
   "source": [
    "# remote_table('rsa@actes').collect().filter(pl.col('ansor').is_null())"
   ]
  },
  {
   "cell_type": "markdown",
   "id": "06bf26a3-c14b-4097-b230-beb80a34ecf4",
   "metadata": {},
   "source": [
    "## Volumétries"
   ]
  },
  {
   "cell_type": "code",
   "execution_count": 8,
   "id": "7b76660a-b190-4286-b128-7c64eef6388b",
   "metadata": {},
   "outputs": [
    {
     "name": "stdout",
     "output_type": "stream",
     "text": [
      "CPU times: user 134 ms, sys: 29.7 ms, total: 164 ms\n",
      "Wall time: 53.9 ms\n"
     ]
    },
    {
     "data": {
      "text/html": [
       "<div><style>\n",
       ".dataframe > thead > tr,\n",
       ".dataframe > tbody > tr {\n",
       "  text-align: right;\n",
       "  white-space: pre-wrap;\n",
       "}\n",
       "</style>\n",
       "<small>shape: (11, 13)</small><table border=\"1\" class=\"dataframe\"><thead><tr><th>ansor</th><th>01</th><th>02</th><th>03</th><th>04</th><th>05</th><th>06</th><th>07</th><th>08</th><th>09</th><th>10</th><th>11</th><th>12</th></tr><tr><td>str</td><td>u32</td><td>u32</td><td>u32</td><td>u32</td><td>u32</td><td>u32</td><td>u32</td><td>u32</td><td>u32</td><td>u32</td><td>u32</td><td>u32</td></tr></thead><tbody><tr><td>&quot;2013&quot;</td><td>9167</td><td>8806</td><td>9540</td><td>9158</td><td>8465</td><td>8679</td><td>9317</td><td>8032</td><td>8305</td><td>9309</td><td>8432</td><td>8751</td></tr><tr><td>&quot;2014&quot;</td><td>9405</td><td>8525</td><td>9006</td><td>9063</td><td>8563</td><td>8986</td><td>9274</td><td>8263</td><td>9450</td><td>9926</td><td>8779</td><td>9518</td></tr><tr><td>&quot;2015&quot;</td><td>9296</td><td>8970</td><td>9763</td><td>9019</td><td>8374</td><td>9561</td><td>9216</td><td>8171</td><td>9493</td><td>9999</td><td>9419</td><td>9905</td></tr><tr><td>&quot;2016&quot;</td><td>9724</td><td>9591</td><td>10515</td><td>9912</td><td>9812</td><td>10216</td><td>9229</td><td>9272</td><td>10269</td><td>10187</td><td>10333</td><td>10567</td></tr><tr><td>&quot;2017&quot;</td><td>10668</td><td>9656</td><td>11052</td><td>9818</td><td>10936</td><td>11431</td><td>10230</td><td>10274</td><td>10662</td><td>11118</td><td>10731</td><td>10361</td></tr><tr><td>&hellip;</td><td>&hellip;</td><td>&hellip;</td><td>&hellip;</td><td>&hellip;</td><td>&hellip;</td><td>&hellip;</td><td>&hellip;</td><td>&hellip;</td><td>&hellip;</td><td>&hellip;</td><td>&hellip;</td><td>&hellip;</td></tr><tr><td>&quot;2019&quot;</td><td>11665</td><td>10526</td><td>11687</td><td>11162</td><td>10776</td><td>10660</td><td>11233</td><td>9841</td><td>10745</td><td>11357</td><td>10570</td><td>11238</td></tr><tr><td>&quot;2020&quot;</td><td>11885</td><td>10942</td><td>10220</td><td>8568</td><td>9483</td><td>11289</td><td>11469</td><td>10046</td><td>11786</td><td>11417</td><td>10480</td><td>11335</td></tr><tr><td>&quot;2021&quot;</td><td>11310</td><td>10858</td><td>12453</td><td>11879</td><td>11453</td><td>12084</td><td>11418</td><td>10650</td><td>12091</td><td>11910</td><td>11593</td><td>11981</td></tr><tr><td>&quot;2022&quot;</td><td>11913</td><td>11075</td><td>12889</td><td>11559</td><td>12057</td><td>12120</td><td>11048</td><td>11280</td><td>12257</td><td>12171</td><td>11766</td><td>11766</td></tr><tr><td>&quot;2023&quot;</td><td>12557</td><td>11288</td><td>13248</td><td>11169</td><td>12028</td><td>13015</td><td>11572</td><td>11321</td><td>11643</td><td>12432</td><td>11955</td><td>11235</td></tr></tbody></table></div>"
      ],
      "text/plain": [
       "shape: (11, 13)\n",
       "┌───────┬───────┬───────┬───────┬───┬───────┬───────┬───────┬───────┐\n",
       "│ ansor ┆ 01    ┆ 02    ┆ 03    ┆ … ┆ 09    ┆ 10    ┆ 11    ┆ 12    │\n",
       "│ ---   ┆ ---   ┆ ---   ┆ ---   ┆   ┆ ---   ┆ ---   ┆ ---   ┆ ---   │\n",
       "│ str   ┆ u32   ┆ u32   ┆ u32   ┆   ┆ u32   ┆ u32   ┆ u32   ┆ u32   │\n",
       "╞═══════╪═══════╪═══════╪═══════╪═══╪═══════╪═══════╪═══════╪═══════╡\n",
       "│ 2013  ┆ 9167  ┆ 8806  ┆ 9540  ┆ … ┆ 8305  ┆ 9309  ┆ 8432  ┆ 8751  │\n",
       "│ 2014  ┆ 9405  ┆ 8525  ┆ 9006  ┆ … ┆ 9450  ┆ 9926  ┆ 8779  ┆ 9518  │\n",
       "│ 2015  ┆ 9296  ┆ 8970  ┆ 9763  ┆ … ┆ 9493  ┆ 9999  ┆ 9419  ┆ 9905  │\n",
       "│ 2016  ┆ 9724  ┆ 9591  ┆ 10515 ┆ … ┆ 10269 ┆ 10187 ┆ 10333 ┆ 10567 │\n",
       "│ 2017  ┆ 10668 ┆ 9656  ┆ 11052 ┆ … ┆ 10662 ┆ 11118 ┆ 10731 ┆ 10361 │\n",
       "│ …     ┆ …     ┆ …     ┆ …     ┆ … ┆ …     ┆ …     ┆ …     ┆ …     │\n",
       "│ 2019  ┆ 11665 ┆ 10526 ┆ 11687 ┆ … ┆ 10745 ┆ 11357 ┆ 10570 ┆ 11238 │\n",
       "│ 2020  ┆ 11885 ┆ 10942 ┆ 10220 ┆ … ┆ 11786 ┆ 11417 ┆ 10480 ┆ 11335 │\n",
       "│ 2021  ┆ 11310 ┆ 10858 ┆ 12453 ┆ … ┆ 12091 ┆ 11910 ┆ 11593 ┆ 11981 │\n",
       "│ 2022  ┆ 11913 ┆ 11075 ┆ 12889 ┆ … ┆ 12257 ┆ 12171 ┆ 11766 ┆ 11766 │\n",
       "│ 2023  ┆ 12557 ┆ 11288 ┆ 13248 ┆ … ┆ 11643 ┆ 12432 ┆ 11955 ┆ 11235 │\n",
       "└───────┴───────┴───────┴───────┴───┴───────┴───────┴───────┴───────┘"
      ]
     },
     "execution_count": 8,
     "metadata": {},
     "output_type": "execute_result"
    }
   ],
   "source": [
    "%%time\n",
    "count_pivot_periode('rsa@rsa')"
   ]
  },
  {
   "cell_type": "code",
   "execution_count": 9,
   "id": "4d086fd4-a6e4-4ae2-8969-729bb69ef1c2",
   "metadata": {},
   "outputs": [
    {
     "name": "stdout",
     "output_type": "stream",
     "text": [
      "CPU times: user 141 ms, sys: 26.3 ms, total: 167 ms\n",
      "Wall time: 54.3 ms\n"
     ]
    },
    {
     "data": {
      "text/html": [
       "<div><style>\n",
       ".dataframe > thead > tr,\n",
       ".dataframe > tbody > tr {\n",
       "  text-align: right;\n",
       "  white-space: pre-wrap;\n",
       "}\n",
       "</style>\n",
       "<small>shape: (11, 13)</small><table border=\"1\" class=\"dataframe\"><thead><tr><th>ansor</th><th>01</th><th>02</th><th>03</th><th>04</th><th>05</th><th>06</th><th>07</th><th>08</th><th>09</th><th>10</th><th>11</th><th>12</th></tr><tr><td>str</td><td>u32</td><td>u32</td><td>u32</td><td>u32</td><td>u32</td><td>u32</td><td>u32</td><td>u32</td><td>u32</td><td>u32</td><td>u32</td><td>u32</td></tr></thead><tbody><tr><td>&quot;2013&quot;</td><td>10330</td><td>9828</td><td>10647</td><td>10439</td><td>9549</td><td>9711</td><td>10512</td><td>8966</td><td>9341</td><td>10474</td><td>9427</td><td>10017</td></tr><tr><td>&quot;2014&quot;</td><td>10624</td><td>9735</td><td>10185</td><td>10269</td><td>9633</td><td>10124</td><td>10454</td><td>9283</td><td>10494</td><td>11090</td><td>9982</td><td>10797</td></tr><tr><td>&quot;2015&quot;</td><td>10478</td><td>10145</td><td>11098</td><td>10246</td><td>9490</td><td>10877</td><td>10511</td><td>9181</td><td>10668</td><td>11344</td><td>10679</td><td>11236</td></tr><tr><td>&quot;2016&quot;</td><td>10841</td><td>10739</td><td>11880</td><td>11112</td><td>11013</td><td>11448</td><td>10382</td><td>10437</td><td>11431</td><td>11295</td><td>11570</td><td>11891</td></tr><tr><td>&quot;2017&quot;</td><td>11940</td><td>10976</td><td>12389</td><td>10960</td><td>12232</td><td>12629</td><td>11463</td><td>11320</td><td>11811</td><td>12396</td><td>11968</td><td>11636</td></tr><tr><td>&hellip;</td><td>&hellip;</td><td>&hellip;</td><td>&hellip;</td><td>&hellip;</td><td>&hellip;</td><td>&hellip;</td><td>&hellip;</td><td>&hellip;</td><td>&hellip;</td><td>&hellip;</td><td>&hellip;</td><td>&hellip;</td></tr><tr><td>&quot;2019&quot;</td><td>13112</td><td>11791</td><td>13112</td><td>12476</td><td>12075</td><td>11918</td><td>12519</td><td>10909</td><td>12017</td><td>12720</td><td>11853</td><td>12524</td></tr><tr><td>&quot;2020&quot;</td><td>13209</td><td>12312</td><td>11564</td><td>9666</td><td>10632</td><td>12422</td><td>12671</td><td>11007</td><td>13037</td><td>12627</td><td>11629</td><td>12613</td></tr><tr><td>&quot;2021&quot;</td><td>12480</td><td>12037</td><td>13841</td><td>13153</td><td>12636</td><td>13353</td><td>12683</td><td>11718</td><td>13282</td><td>13238</td><td>12878</td><td>13286</td></tr><tr><td>&quot;2022&quot;</td><td>13153</td><td>12207</td><td>14204</td><td>12799</td><td>13317</td><td>13451</td><td>12325</td><td>12284</td><td>13474</td><td>13516</td><td>13011</td><td>13148</td></tr><tr><td>&quot;2023&quot;</td><td>13884</td><td>12507</td><td>14612</td><td>12360</td><td>13309</td><td>14284</td><td>12726</td><td>12290</td><td>12801</td><td>13772</td><td>13281</td><td>12432</td></tr></tbody></table></div>"
      ],
      "text/plain": [
       "shape: (11, 13)\n",
       "┌───────┬───────┬───────┬───────┬───┬───────┬───────┬───────┬───────┐\n",
       "│ ansor ┆ 01    ┆ 02    ┆ 03    ┆ … ┆ 09    ┆ 10    ┆ 11    ┆ 12    │\n",
       "│ ---   ┆ ---   ┆ ---   ┆ ---   ┆   ┆ ---   ┆ ---   ┆ ---   ┆ ---   │\n",
       "│ str   ┆ u32   ┆ u32   ┆ u32   ┆   ┆ u32   ┆ u32   ┆ u32   ┆ u32   │\n",
       "╞═══════╪═══════╪═══════╪═══════╪═══╪═══════╪═══════╪═══════╪═══════╡\n",
       "│ 2013  ┆ 10330 ┆ 9828  ┆ 10647 ┆ … ┆ 9341  ┆ 10474 ┆ 9427  ┆ 10017 │\n",
       "│ 2014  ┆ 10624 ┆ 9735  ┆ 10185 ┆ … ┆ 10494 ┆ 11090 ┆ 9982  ┆ 10797 │\n",
       "│ 2015  ┆ 10478 ┆ 10145 ┆ 11098 ┆ … ┆ 10668 ┆ 11344 ┆ 10679 ┆ 11236 │\n",
       "│ 2016  ┆ 10841 ┆ 10739 ┆ 11880 ┆ … ┆ 11431 ┆ 11295 ┆ 11570 ┆ 11891 │\n",
       "│ 2017  ┆ 11940 ┆ 10976 ┆ 12389 ┆ … ┆ 11811 ┆ 12396 ┆ 11968 ┆ 11636 │\n",
       "│ …     ┆ …     ┆ …     ┆ …     ┆ … ┆ …     ┆ …     ┆ …     ┆ …     │\n",
       "│ 2019  ┆ 13112 ┆ 11791 ┆ 13112 ┆ … ┆ 12017 ┆ 12720 ┆ 11853 ┆ 12524 │\n",
       "│ 2020  ┆ 13209 ┆ 12312 ┆ 11564 ┆ … ┆ 13037 ┆ 12627 ┆ 11629 ┆ 12613 │\n",
       "│ 2021  ┆ 12480 ┆ 12037 ┆ 13841 ┆ … ┆ 13282 ┆ 13238 ┆ 12878 ┆ 13286 │\n",
       "│ 2022  ┆ 13153 ┆ 12207 ┆ 14204 ┆ … ┆ 13474 ┆ 13516 ┆ 13011 ┆ 13148 │\n",
       "│ 2023  ┆ 13884 ┆ 12507 ┆ 14612 ┆ … ┆ 12801 ┆ 13772 ┆ 13281 ┆ 12432 │\n",
       "└───────┴───────┴───────┴───────┴───┴───────┴───────┴───────┴───────┘"
      ]
     },
     "execution_count": 9,
     "metadata": {},
     "output_type": "execute_result"
    }
   ],
   "source": [
    "%%time\n",
    "count_pivot_periode('rsa@rsa_um')"
   ]
  },
  {
   "cell_type": "code",
   "execution_count": 10,
   "id": "a0fa82ab-9235-45f7-90bc-0149ff7d0865",
   "metadata": {},
   "outputs": [
    {
     "name": "stdout",
     "output_type": "stream",
     "text": [
      "CPU times: user 416 ms, sys: 75.1 ms, total: 491 ms\n",
      "Wall time: 143 ms\n"
     ]
    },
    {
     "data": {
      "text/html": [
       "<div><style>\n",
       ".dataframe > thead > tr,\n",
       ".dataframe > tbody > tr {\n",
       "  text-align: right;\n",
       "  white-space: pre-wrap;\n",
       "}\n",
       "</style>\n",
       "<small>shape: (11, 13)</small><table border=\"1\" class=\"dataframe\"><thead><tr><th>ansor</th><th>01</th><th>02</th><th>03</th><th>04</th><th>05</th><th>06</th><th>07</th><th>08</th><th>09</th><th>10</th><th>11</th><th>12</th></tr><tr><td>str</td><td>u32</td><td>u32</td><td>u32</td><td>u32</td><td>u32</td><td>u32</td><td>u32</td><td>u32</td><td>u32</td><td>u32</td><td>u32</td><td>u32</td></tr></thead><tbody><tr><td>&quot;2013&quot;</td><td>39450</td><td>35718</td><td>40894</td><td>38241</td><td>34470</td><td>36537</td><td>39552</td><td>35240</td><td>34559</td><td>37183</td><td>33334</td><td>36499</td></tr><tr><td>&quot;2014&quot;</td><td>36827</td><td>36179</td><td>36302</td><td>37509</td><td>33753</td><td>33814</td><td>34192</td><td>31689</td><td>32734</td><td>29792</td><td>31938</td><td>35835</td></tr><tr><td>&quot;2015&quot;</td><td>34416</td><td>33117</td><td>37165</td><td>34225</td><td>33908</td><td>35155</td><td>36629</td><td>30097</td><td>35562</td><td>36297</td><td>34807</td><td>36216</td></tr><tr><td>&quot;2016&quot;</td><td>34992</td><td>35461</td><td>39169</td><td>36779</td><td>36655</td><td>36178</td><td>34188</td><td>33633</td><td>36894</td><td>35207</td><td>35265</td><td>36268</td></tr><tr><td>&quot;2017&quot;</td><td>38756</td><td>35172</td><td>38395</td><td>35454</td><td>35330</td><td>37909</td><td>38250</td><td>34571</td><td>36344</td><td>36986</td><td>34595</td><td>36148</td></tr><tr><td>&hellip;</td><td>&hellip;</td><td>&hellip;</td><td>&hellip;</td><td>&hellip;</td><td>&hellip;</td><td>&hellip;</td><td>&hellip;</td><td>&hellip;</td><td>&hellip;</td><td>&hellip;</td><td>&hellip;</td><td>&hellip;</td></tr><tr><td>&quot;2019&quot;</td><td>39926</td><td>35786</td><td>40429</td><td>37587</td><td>35955</td><td>36130</td><td>37412</td><td>31360</td><td>37032</td><td>37933</td><td>33767</td><td>35833</td></tr><tr><td>&quot;2020&quot;</td><td>37193</td><td>35813</td><td>34328</td><td>27193</td><td>30666</td><td>35311</td><td>37232</td><td>33115</td><td>37461</td><td>37052</td><td>33694</td><td>34086</td></tr><tr><td>&quot;2021&quot;</td><td>34487</td><td>35112</td><td>41197</td><td>37287</td><td>33438</td><td>36341</td><td>35283</td><td>31555</td><td>34607</td><td>33530</td><td>31714</td><td>34134</td></tr><tr><td>&quot;2022&quot;</td><td>34516</td><td>34555</td><td>38610</td><td>33976</td><td>38406</td><td>37171</td><td>33459</td><td>32308</td><td>36255</td><td>35948</td><td>34459</td><td>36271</td></tr><tr><td>&quot;2023&quot;</td><td>40215</td><td>34487</td><td>39588</td><td>34359</td><td>35284</td><td>38578</td><td>34549</td><td>31679</td><td>34145</td><td>35845</td><td>36788</td><td>33018</td></tr></tbody></table></div>"
      ],
      "text/plain": [
       "shape: (11, 13)\n",
       "┌───────┬───────┬───────┬───────┬───┬───────┬───────┬───────┬───────┐\n",
       "│ ansor ┆ 01    ┆ 02    ┆ 03    ┆ … ┆ 09    ┆ 10    ┆ 11    ┆ 12    │\n",
       "│ ---   ┆ ---   ┆ ---   ┆ ---   ┆   ┆ ---   ┆ ---   ┆ ---   ┆ ---   │\n",
       "│ str   ┆ u32   ┆ u32   ┆ u32   ┆   ┆ u32   ┆ u32   ┆ u32   ┆ u32   │\n",
       "╞═══════╪═══════╪═══════╪═══════╪═══╪═══════╪═══════╪═══════╪═══════╡\n",
       "│ 2013  ┆ 39450 ┆ 35718 ┆ 40894 ┆ … ┆ 34559 ┆ 37183 ┆ 33334 ┆ 36499 │\n",
       "│ 2014  ┆ 36827 ┆ 36179 ┆ 36302 ┆ … ┆ 32734 ┆ 29792 ┆ 31938 ┆ 35835 │\n",
       "│ 2015  ┆ 34416 ┆ 33117 ┆ 37165 ┆ … ┆ 35562 ┆ 36297 ┆ 34807 ┆ 36216 │\n",
       "│ 2016  ┆ 34992 ┆ 35461 ┆ 39169 ┆ … ┆ 36894 ┆ 35207 ┆ 35265 ┆ 36268 │\n",
       "│ 2017  ┆ 38756 ┆ 35172 ┆ 38395 ┆ … ┆ 36344 ┆ 36986 ┆ 34595 ┆ 36148 │\n",
       "│ …     ┆ …     ┆ …     ┆ …     ┆ … ┆ …     ┆ …     ┆ …     ┆ …     │\n",
       "│ 2019  ┆ 39926 ┆ 35786 ┆ 40429 ┆ … ┆ 37032 ┆ 37933 ┆ 33767 ┆ 35833 │\n",
       "│ 2020  ┆ 37193 ┆ 35813 ┆ 34328 ┆ … ┆ 37461 ┆ 37052 ┆ 33694 ┆ 34086 │\n",
       "│ 2021  ┆ 34487 ┆ 35112 ┆ 41197 ┆ … ┆ 34607 ┆ 33530 ┆ 31714 ┆ 34134 │\n",
       "│ 2022  ┆ 34516 ┆ 34555 ┆ 38610 ┆ … ┆ 36255 ┆ 35948 ┆ 34459 ┆ 36271 │\n",
       "│ 2023  ┆ 40215 ┆ 34487 ┆ 39588 ┆ … ┆ 34145 ┆ 35845 ┆ 36788 ┆ 33018 │\n",
       "└───────┴───────┴───────┴───────┴───┴───────┴───────┴───────┴───────┘"
      ]
     },
     "execution_count": 10,
     "metadata": {},
     "output_type": "execute_result"
    }
   ],
   "source": [
    "%%time\n",
    "count_pivot_periode('rsa@actes')"
   ]
  },
  {
   "cell_type": "code",
   "execution_count": 11,
   "id": "99fbf12a-0058-4bd1-8889-0ba401e09343",
   "metadata": {},
   "outputs": [
    {
     "name": "stdout",
     "output_type": "stream",
     "text": [
      "CPU times: user 747 ms, sys: 201 ms, total: 948 ms\n",
      "Wall time: 272 ms\n"
     ]
    },
    {
     "data": {
      "text/html": [
       "<div><style>\n",
       ".dataframe > thead > tr,\n",
       ".dataframe > tbody > tr {\n",
       "  text-align: right;\n",
       "  white-space: pre-wrap;\n",
       "}\n",
       "</style>\n",
       "<small>shape: (11, 13)</small><table border=\"1\" class=\"dataframe\"><thead><tr><th>ansor</th><th>01</th><th>02</th><th>03</th><th>04</th><th>05</th><th>06</th><th>07</th><th>08</th><th>09</th><th>10</th><th>11</th><th>12</th></tr><tr><td>str</td><td>u32</td><td>u32</td><td>u32</td><td>u32</td><td>u32</td><td>u32</td><td>u32</td><td>u32</td><td>u32</td><td>u32</td><td>u32</td><td>u32</td></tr></thead><tbody><tr><td>&quot;2013&quot;</td><td>51552</td><td>48464</td><td>55267</td><td>56511</td><td>50818</td><td>51976</td><td>56642</td><td>48546</td><td>51040</td><td>57132</td><td>50241</td><td>53880</td></tr><tr><td>&quot;2014&quot;</td><td>58166</td><td>53540</td><td>55703</td><td>57256</td><td>52912</td><td>54255</td><td>55540</td><td>50383</td><td>55682</td><td>59274</td><td>52908</td><td>56873</td></tr><tr><td>&quot;2015&quot;</td><td>55375</td><td>55018</td><td>59977</td><td>56956</td><td>50693</td><td>59464</td><td>57639</td><td>50895</td><td>57099</td><td>60067</td><td>56522</td><td>60209</td></tr><tr><td>&quot;2016&quot;</td><td>59527</td><td>59878</td><td>66432</td><td>62540</td><td>60556</td><td>62283</td><td>57176</td><td>57516</td><td>62489</td><td>61596</td><td>62967</td><td>63929</td></tr><tr><td>&quot;2017&quot;</td><td>65743</td><td>61249</td><td>68527</td><td>60981</td><td>66991</td><td>67664</td><td>63843</td><td>62677</td><td>62332</td><td>65690</td><td>65671</td><td>64233</td></tr><tr><td>&hellip;</td><td>&hellip;</td><td>&hellip;</td><td>&hellip;</td><td>&hellip;</td><td>&hellip;</td><td>&hellip;</td><td>&hellip;</td><td>&hellip;</td><td>&hellip;</td><td>&hellip;</td><td>&hellip;</td><td>&hellip;</td></tr><tr><td>&quot;2019&quot;</td><td>72868</td><td>67123</td><td>73669</td><td>70692</td><td>65988</td><td>66030</td><td>71534</td><td>61964</td><td>67261</td><td>68819</td><td>62005</td><td>65833</td></tr><tr><td>&quot;2020&quot;</td><td>70200</td><td>64916</td><td>62578</td><td>55956</td><td>59858</td><td>67101</td><td>68166</td><td>60045</td><td>68677</td><td>68823</td><td>62851</td><td>66577</td></tr><tr><td>&quot;2021&quot;</td><td>67093</td><td>65017</td><td>74707</td><td>70623</td><td>67517</td><td>68375</td><td>69498</td><td>64400</td><td>69719</td><td>69529</td><td>67911</td><td>67933</td></tr><tr><td>&quot;2022&quot;</td><td>70203</td><td>65027</td><td>75626</td><td>70335</td><td>72738</td><td>71725</td><td>68589</td><td>65744</td><td>71751</td><td>72048</td><td>67011</td><td>69758</td></tr><tr><td>&quot;2023&quot;</td><td>70549</td><td>66490</td><td>79108</td><td>68151</td><td>73326</td><td>76715</td><td>68492</td><td>66203</td><td>68642</td><td>74670</td><td>73884</td><td>68997</td></tr></tbody></table></div>"
      ],
      "text/plain": [
       "shape: (11, 13)\n",
       "┌───────┬───────┬───────┬───────┬───┬───────┬───────┬───────┬───────┐\n",
       "│ ansor ┆ 01    ┆ 02    ┆ 03    ┆ … ┆ 09    ┆ 10    ┆ 11    ┆ 12    │\n",
       "│ ---   ┆ ---   ┆ ---   ┆ ---   ┆   ┆ ---   ┆ ---   ┆ ---   ┆ ---   │\n",
       "│ str   ┆ u32   ┆ u32   ┆ u32   ┆   ┆ u32   ┆ u32   ┆ u32   ┆ u32   │\n",
       "╞═══════╪═══════╪═══════╪═══════╪═══╪═══════╪═══════╪═══════╪═══════╡\n",
       "│ 2013  ┆ 51552 ┆ 48464 ┆ 55267 ┆ … ┆ 51040 ┆ 57132 ┆ 50241 ┆ 53880 │\n",
       "│ 2014  ┆ 58166 ┆ 53540 ┆ 55703 ┆ … ┆ 55682 ┆ 59274 ┆ 52908 ┆ 56873 │\n",
       "│ 2015  ┆ 55375 ┆ 55018 ┆ 59977 ┆ … ┆ 57099 ┆ 60067 ┆ 56522 ┆ 60209 │\n",
       "│ 2016  ┆ 59527 ┆ 59878 ┆ 66432 ┆ … ┆ 62489 ┆ 61596 ┆ 62967 ┆ 63929 │\n",
       "│ 2017  ┆ 65743 ┆ 61249 ┆ 68527 ┆ … ┆ 62332 ┆ 65690 ┆ 65671 ┆ 64233 │\n",
       "│ …     ┆ …     ┆ …     ┆ …     ┆ … ┆ …     ┆ …     ┆ …     ┆ …     │\n",
       "│ 2019  ┆ 72868 ┆ 67123 ┆ 73669 ┆ … ┆ 67261 ┆ 68819 ┆ 62005 ┆ 65833 │\n",
       "│ 2020  ┆ 70200 ┆ 64916 ┆ 62578 ┆ … ┆ 68677 ┆ 68823 ┆ 62851 ┆ 66577 │\n",
       "│ 2021  ┆ 67093 ┆ 65017 ┆ 74707 ┆ … ┆ 69719 ┆ 69529 ┆ 67911 ┆ 67933 │\n",
       "│ 2022  ┆ 70203 ┆ 65027 ┆ 75626 ┆ … ┆ 71751 ┆ 72048 ┆ 67011 ┆ 69758 │\n",
       "│ 2023  ┆ 70549 ┆ 66490 ┆ 79108 ┆ … ┆ 68642 ┆ 74670 ┆ 73884 ┆ 68997 │\n",
       "└───────┴───────┴───────┴───────┴───┴───────┴───────┴───────┴───────┘"
      ]
     },
     "execution_count": 11,
     "metadata": {},
     "output_type": "execute_result"
    }
   ],
   "source": [
    "%%time\n",
    "count_pivot_periode('rsa@diags')"
   ]
  },
  {
   "cell_type": "markdown",
   "id": "c8d42a1f-2595-47fa-a618-1e73859dcdfa",
   "metadata": {},
   "source": [
    "## Update (delete de l'année en cours)\n",
    "\n",
    "On passe à pyspark pour pouvoir lancer des delete dans les fichiers delta lake\n",
    "(il faut installer un java, d'une certaine version, pour que cela fonctionne correctement `\n",
    "\n",
    "avec quelque chose comme : \n",
    "\n",
    "```\n",
    "export JAVA_HOME=`/usr/libexec/java_home -v 1.8`\n",
    "```\n",
    "\n"
   ]
  },
  {
   "cell_type": "code",
   "execution_count": 12,
   "id": "93e73136-0ff7-4c11-b6cb-85287fb9a735",
   "metadata": {
    "scrolled": true
   },
   "outputs": [
    {
     "name": "stderr",
     "output_type": "stream",
     "text": [
      "24/09/08 23:15:12 WARN Utils: Your hostname, ......... resolves to a loopback address: 127.0.0.1; using ......... instead (on interface en0)\n",
      "24/09/08 23:15:12 WARN Utils: Set SPARK_LOCAL_IP if you need to bind to another address\n",
      "Ivy Default Cache set to: /Users/guillaumepressiat/.ivy2/cache\n",
      "The jars for the packages stored in: /Users/guillaumepressiat/.ivy2/jars\n",
      "io.delta#delta-core_2.12 added as a dependency\n",
      ":: resolving dependencies :: org.apache.spark#spark-submit-parent-126ee81f-c0c6-45e3-aeef-1cbcde32f6e4;1.0\n",
      "\tconfs: [default]\n"
     ]
    },
    {
     "name": "stdout",
     "output_type": "stream",
     "text": [
      ":: loading settings :: url = jar:file:/opt/homebrew/lib/python3.11/site-packages/pyspark/jars/ivy-2.5.1.jar!/org/apache/ivy/core/settings/ivysettings.xml\n"
     ]
    },
    {
     "name": "stderr",
     "output_type": "stream",
     "text": [
      "\tfound io.delta#delta-core_2.12;2.4.0 in central\n",
      "\tfound io.delta#delta-storage;2.4.0 in central\n",
      "\tfound org.antlr#antlr4-runtime;4.9.3 in central\n",
      ":: resolution report :: resolve 80ms :: artifacts dl 3ms\n",
      "\t:: modules in use:\n",
      "\tio.delta#delta-core_2.12;2.4.0 from central in [default]\n",
      "\tio.delta#delta-storage;2.4.0 from central in [default]\n",
      "\torg.antlr#antlr4-runtime;4.9.3 from central in [default]\n",
      "\t---------------------------------------------------------------------\n",
      "\t|                  |            modules            ||   artifacts   |\n",
      "\t|       conf       | number| search|dwnlded|evicted|| number|dwnlded|\n",
      "\t---------------------------------------------------------------------\n",
      "\t|      default     |   3   |   0   |   0   |   0   ||   3   |   0   |\n",
      "\t---------------------------------------------------------------------\n",
      ":: retrieving :: org.apache.spark#spark-submit-parent-126ee81f-c0c6-45e3-aeef-1cbcde32f6e4\n",
      "\tconfs: [default]\n",
      "\t0 artifacts copied, 3 already retrieved (0kB/2ms)\n",
      "24/09/08 23:15:13 WARN NativeCodeLoader: Unable to load native-hadoop library for your platform... using builtin-java classes where applicable\n",
      "Setting default log level to \"WARN\".\n",
      "To adjust logging level use sc.setLogLevel(newLevel). For SparkR, use setLogLevel(newLevel).\n"
     ]
    }
   ],
   "source": [
    "from pyspark.sql import SparkSession\n",
    "\n",
    "#from pyspark import SparkContext\n",
    "#SparkContext.setSystemProperty('spark.executor.memory', '4g')\n",
    "\n",
    "builder = pyspark.sql.SparkSession.builder.appName(\"MyPmsiDLake\") \\\n",
    "    .config(\"spark.sql.extensions\", \"io.delta.sql.DeltaSparkSessionExtension\") \\\n",
    "    .config(\"spark.sql.catalog.spark_catalog\", \"org.apache.spark.sql.delta.catalog.DeltaCatalog\") \\\n",
    "    .config(\"spark.executor.memory\", \"10g\") \\\n",
    "    .config(\"spark.executor.cores\", 12) \\\n",
    "    .config(\"spark.dynamicAllocation.enabled\", \"true\") \\\n",
    "    .config(\"spark.dynamicAllocation.minExecutors\",\"10\") \\\n",
    "    .config(\"spark.dynamicAllocation.maxExecutors\",\"15\")\n",
    "\n",
    "spark = configure_spark_with_delta_pip(builder).getOrCreate()\n",
    "\n",
    "\n",
    "# https://stackoverflow.com/a/24657630/10527496\n",
    "# https://stackoverflow.com/questions/70192980/error-creating-sparkcontext-locally-an-error-occurred-while-calling-none-org-apa"
   ]
  },
  {
   "cell_type": "code",
   "execution_count": 13,
   "id": "f320e46e-feb4-410a-a79d-edb83523f475",
   "metadata": {},
   "outputs": [
    {
     "data": {
      "text/plain": [
       "'ansor = \"2023\"'"
      ]
     },
     "execution_count": 13,
     "metadata": {},
     "output_type": "execute_result"
    }
   ],
   "source": [
    "annee_delete = '2023'\n",
    "string_delete = \"ansor = \\\"\" + annee_delete + \"\\\"\"\n",
    "string_delete\n",
    "# string_delete = \"ansor is NULL\""
   ]
  },
  {
   "cell_type": "code",
   "execution_count": 14,
   "id": "3ef4911a-03a4-4696-a5d5-bc37e80d4d8a",
   "metadata": {},
   "outputs": [
    {
     "name": "stderr",
     "output_type": "stream",
     "text": [
      "24/09/08 23:15:17 WARN package: Truncated the string representation of a plan since it was too large. This behavior can be adjusted by setting 'spark.sql.debug.maxToStringFields'.\n",
      "Java HotSpot(TM) 64-Bit Server VM warning: CodeCache is full. Compiler has been disabled.\n",
      "Java HotSpot(TM) 64-Bit Server VM warning: Try increasing the code cache size using -XX:ReservedCodeCacheSize=\n"
     ]
    },
    {
     "name": "stdout",
     "output_type": "stream",
     "text": [
      "CodeCache: size=131072Kb used=48351Kb max_used=48384Kb free=82720Kb\n",
      " bounds [0x0000000106880000, 0x0000000109830000, 0x000000010e880000]\n",
      " total_blobs=17469 nmethods=16361 adapters=1019\n",
      " compilation: disabled (not enough contiguous free space left)\n"
     ]
    }
   ],
   "source": [
    "for i in ['rsa@rsa', 'rsa@actes', 'rsa@diags', 'rsa@rsa_um']:\n",
    "    delete_in_delta(i, string_delete)\n",
    "    "
   ]
  },
  {
   "cell_type": "markdown",
   "id": "32d175c8-0d0e-403c-8d20-e9d1a5cbbf30",
   "metadata": {},
   "source": [
    "2023 a bien été supprimé"
   ]
  },
  {
   "cell_type": "code",
   "execution_count": 15,
   "id": "78ff807a-5445-4fce-8826-17a7e77b0edf",
   "metadata": {},
   "outputs": [
    {
     "name": "stdout",
     "output_type": "stream",
     "text": [
      "CPU times: user 133 ms, sys: 50.5 ms, total: 183 ms\n",
      "Wall time: 60.5 ms\n"
     ]
    },
    {
     "data": {
      "text/html": [
       "<div><style>\n",
       ".dataframe > thead > tr,\n",
       ".dataframe > tbody > tr {\n",
       "  text-align: right;\n",
       "  white-space: pre-wrap;\n",
       "}\n",
       "</style>\n",
       "<small>shape: (10, 13)</small><table border=\"1\" class=\"dataframe\"><thead><tr><th>ansor</th><th>01</th><th>02</th><th>03</th><th>04</th><th>05</th><th>06</th><th>07</th><th>08</th><th>09</th><th>10</th><th>11</th><th>12</th></tr><tr><td>str</td><td>u32</td><td>u32</td><td>u32</td><td>u32</td><td>u32</td><td>u32</td><td>u32</td><td>u32</td><td>u32</td><td>u32</td><td>u32</td><td>u32</td></tr></thead><tbody><tr><td>&quot;2013&quot;</td><td>9167</td><td>8806</td><td>9540</td><td>9158</td><td>8465</td><td>8679</td><td>9317</td><td>8032</td><td>8305</td><td>9309</td><td>8432</td><td>8751</td></tr><tr><td>&quot;2014&quot;</td><td>9405</td><td>8525</td><td>9006</td><td>9063</td><td>8563</td><td>8986</td><td>9274</td><td>8263</td><td>9450</td><td>9926</td><td>8779</td><td>9518</td></tr><tr><td>&quot;2015&quot;</td><td>9296</td><td>8970</td><td>9763</td><td>9019</td><td>8374</td><td>9561</td><td>9216</td><td>8171</td><td>9493</td><td>9999</td><td>9419</td><td>9905</td></tr><tr><td>&quot;2016&quot;</td><td>9724</td><td>9591</td><td>10515</td><td>9912</td><td>9812</td><td>10216</td><td>9229</td><td>9272</td><td>10269</td><td>10187</td><td>10333</td><td>10567</td></tr><tr><td>&quot;2017&quot;</td><td>10668</td><td>9656</td><td>11052</td><td>9818</td><td>10936</td><td>11431</td><td>10230</td><td>10274</td><td>10662</td><td>11118</td><td>10731</td><td>10361</td></tr><tr><td>&quot;2018&quot;</td><td>10934</td><td>10013</td><td>11135</td><td>10196</td><td>10086</td><td>10838</td><td>10730</td><td>10364</td><td>10529</td><td>11423</td><td>10974</td><td>10944</td></tr><tr><td>&quot;2019&quot;</td><td>11665</td><td>10526</td><td>11687</td><td>11162</td><td>10776</td><td>10660</td><td>11233</td><td>9841</td><td>10745</td><td>11357</td><td>10570</td><td>11238</td></tr><tr><td>&quot;2020&quot;</td><td>11885</td><td>10942</td><td>10220</td><td>8568</td><td>9483</td><td>11289</td><td>11469</td><td>10046</td><td>11786</td><td>11417</td><td>10480</td><td>11335</td></tr><tr><td>&quot;2021&quot;</td><td>11310</td><td>10858</td><td>12453</td><td>11879</td><td>11453</td><td>12084</td><td>11418</td><td>10650</td><td>12091</td><td>11910</td><td>11593</td><td>11981</td></tr><tr><td>&quot;2022&quot;</td><td>11913</td><td>11075</td><td>12889</td><td>11559</td><td>12057</td><td>12120</td><td>11048</td><td>11280</td><td>12257</td><td>12171</td><td>11766</td><td>11766</td></tr></tbody></table></div>"
      ],
      "text/plain": [
       "shape: (10, 13)\n",
       "┌───────┬───────┬───────┬───────┬───┬───────┬───────┬───────┬───────┐\n",
       "│ ansor ┆ 01    ┆ 02    ┆ 03    ┆ … ┆ 09    ┆ 10    ┆ 11    ┆ 12    │\n",
       "│ ---   ┆ ---   ┆ ---   ┆ ---   ┆   ┆ ---   ┆ ---   ┆ ---   ┆ ---   │\n",
       "│ str   ┆ u32   ┆ u32   ┆ u32   ┆   ┆ u32   ┆ u32   ┆ u32   ┆ u32   │\n",
       "╞═══════╪═══════╪═══════╪═══════╪═══╪═══════╪═══════╪═══════╪═══════╡\n",
       "│ 2013  ┆ 9167  ┆ 8806  ┆ 9540  ┆ … ┆ 8305  ┆ 9309  ┆ 8432  ┆ 8751  │\n",
       "│ 2014  ┆ 9405  ┆ 8525  ┆ 9006  ┆ … ┆ 9450  ┆ 9926  ┆ 8779  ┆ 9518  │\n",
       "│ 2015  ┆ 9296  ┆ 8970  ┆ 9763  ┆ … ┆ 9493  ┆ 9999  ┆ 9419  ┆ 9905  │\n",
       "│ 2016  ┆ 9724  ┆ 9591  ┆ 10515 ┆ … ┆ 10269 ┆ 10187 ┆ 10333 ┆ 10567 │\n",
       "│ 2017  ┆ 10668 ┆ 9656  ┆ 11052 ┆ … ┆ 10662 ┆ 11118 ┆ 10731 ┆ 10361 │\n",
       "│ 2018  ┆ 10934 ┆ 10013 ┆ 11135 ┆ … ┆ 10529 ┆ 11423 ┆ 10974 ┆ 10944 │\n",
       "│ 2019  ┆ 11665 ┆ 10526 ┆ 11687 ┆ … ┆ 10745 ┆ 11357 ┆ 10570 ┆ 11238 │\n",
       "│ 2020  ┆ 11885 ┆ 10942 ┆ 10220 ┆ … ┆ 11786 ┆ 11417 ┆ 10480 ┆ 11335 │\n",
       "│ 2021  ┆ 11310 ┆ 10858 ┆ 12453 ┆ … ┆ 12091 ┆ 11910 ┆ 11593 ┆ 11981 │\n",
       "│ 2022  ┆ 11913 ┆ 11075 ┆ 12889 ┆ … ┆ 12257 ┆ 12171 ┆ 11766 ┆ 11766 │\n",
       "└───────┴───────┴───────┴───────┴───┴───────┴───────┴───────┴───────┘"
      ]
     },
     "execution_count": 15,
     "metadata": {},
     "output_type": "execute_result"
    }
   ],
   "source": [
    "%%time\n",
    "count_pivot_periode('rsa@rsa')"
   ]
  },
  {
   "cell_type": "code",
   "execution_count": 16,
   "id": "fcb66c34-0e93-4c35-9d56-5756d115a8b6",
   "metadata": {},
   "outputs": [
    {
     "name": "stderr",
     "output_type": "stream",
     "text": [
      "                                                                                \r"
     ]
    }
   ],
   "source": [
    "for i in ['rsa@rsa', 'rsa@actes', 'rsa@diags', 'rsa@rsa_um']:\n",
    "    delete_in_delta(i, \"moissor in ('03', '06', '09', '12')\")\n"
   ]
  },
  {
   "cell_type": "code",
   "execution_count": 29,
   "id": "7c278d4b-e92e-43d3-908c-35db4b0e3012",
   "metadata": {},
   "outputs": [
    {
     "name": "stdout",
     "output_type": "stream",
     "text": [
      "CPU times: user 113 ms, sys: 22.2 ms, total: 135 ms\n",
      "Wall time: 60.6 ms\n"
     ]
    },
    {
     "data": {
      "text/html": [
       "<div><style>\n",
       ".dataframe > thead > tr,\n",
       ".dataframe > tbody > tr {\n",
       "  text-align: right;\n",
       "  white-space: pre-wrap;\n",
       "}\n",
       "</style>\n",
       "<small>shape: (10, 9)</small><table border=\"1\" class=\"dataframe\"><thead><tr><th>ansor</th><th>01</th><th>02</th><th>04</th><th>05</th><th>07</th><th>08</th><th>10</th><th>11</th></tr><tr><td>str</td><td>u32</td><td>u32</td><td>u32</td><td>u32</td><td>u32</td><td>u32</td><td>u32</td><td>u32</td></tr></thead><tbody><tr><td>&quot;2013&quot;</td><td>9167</td><td>8806</td><td>9158</td><td>8465</td><td>9317</td><td>8032</td><td>9309</td><td>8432</td></tr><tr><td>&quot;2014&quot;</td><td>9405</td><td>8525</td><td>9063</td><td>8563</td><td>9274</td><td>8263</td><td>9926</td><td>8779</td></tr><tr><td>&quot;2015&quot;</td><td>9296</td><td>8970</td><td>9019</td><td>8374</td><td>9216</td><td>8171</td><td>9999</td><td>9419</td></tr><tr><td>&quot;2016&quot;</td><td>9724</td><td>9591</td><td>9912</td><td>9812</td><td>9229</td><td>9272</td><td>10187</td><td>10333</td></tr><tr><td>&quot;2017&quot;</td><td>10668</td><td>9656</td><td>9818</td><td>10936</td><td>10230</td><td>10274</td><td>11118</td><td>10731</td></tr><tr><td>&quot;2018&quot;</td><td>10934</td><td>10013</td><td>10196</td><td>10086</td><td>10730</td><td>10364</td><td>11423</td><td>10974</td></tr><tr><td>&quot;2019&quot;</td><td>11665</td><td>10526</td><td>11162</td><td>10776</td><td>11233</td><td>9841</td><td>11357</td><td>10570</td></tr><tr><td>&quot;2020&quot;</td><td>11885</td><td>10942</td><td>8568</td><td>9483</td><td>11469</td><td>10046</td><td>11417</td><td>10480</td></tr><tr><td>&quot;2021&quot;</td><td>11310</td><td>10858</td><td>11879</td><td>11453</td><td>11418</td><td>10650</td><td>11910</td><td>11593</td></tr><tr><td>&quot;2022&quot;</td><td>11913</td><td>11075</td><td>11559</td><td>12057</td><td>11048</td><td>11280</td><td>12171</td><td>11766</td></tr></tbody></table></div>"
      ],
      "text/plain": [
       "shape: (10, 9)\n",
       "┌───────┬───────┬───────┬───────┬───┬───────┬───────┬───────┬───────┐\n",
       "│ ansor ┆ 01    ┆ 02    ┆ 04    ┆ … ┆ 07    ┆ 08    ┆ 10    ┆ 11    │\n",
       "│ ---   ┆ ---   ┆ ---   ┆ ---   ┆   ┆ ---   ┆ ---   ┆ ---   ┆ ---   │\n",
       "│ str   ┆ u32   ┆ u32   ┆ u32   ┆   ┆ u32   ┆ u32   ┆ u32   ┆ u32   │\n",
       "╞═══════╪═══════╪═══════╪═══════╪═══╪═══════╪═══════╪═══════╪═══════╡\n",
       "│ 2013  ┆ 9167  ┆ 8806  ┆ 9158  ┆ … ┆ 9317  ┆ 8032  ┆ 9309  ┆ 8432  │\n",
       "│ 2014  ┆ 9405  ┆ 8525  ┆ 9063  ┆ … ┆ 9274  ┆ 8263  ┆ 9926  ┆ 8779  │\n",
       "│ 2015  ┆ 9296  ┆ 8970  ┆ 9019  ┆ … ┆ 9216  ┆ 8171  ┆ 9999  ┆ 9419  │\n",
       "│ 2016  ┆ 9724  ┆ 9591  ┆ 9912  ┆ … ┆ 9229  ┆ 9272  ┆ 10187 ┆ 10333 │\n",
       "│ 2017  ┆ 10668 ┆ 9656  ┆ 9818  ┆ … ┆ 10230 ┆ 10274 ┆ 11118 ┆ 10731 │\n",
       "│ 2018  ┆ 10934 ┆ 10013 ┆ 10196 ┆ … ┆ 10730 ┆ 10364 ┆ 11423 ┆ 10974 │\n",
       "│ 2019  ┆ 11665 ┆ 10526 ┆ 11162 ┆ … ┆ 11233 ┆ 9841  ┆ 11357 ┆ 10570 │\n",
       "│ 2020  ┆ 11885 ┆ 10942 ┆ 8568  ┆ … ┆ 11469 ┆ 10046 ┆ 11417 ┆ 10480 │\n",
       "│ 2021  ┆ 11310 ┆ 10858 ┆ 11879 ┆ … ┆ 11418 ┆ 10650 ┆ 11910 ┆ 11593 │\n",
       "│ 2022  ┆ 11913 ┆ 11075 ┆ 11559 ┆ … ┆ 11048 ┆ 11280 ┆ 12171 ┆ 11766 │\n",
       "└───────┴───────┴───────┴───────┴───┴───────┴───────┴───────┴───────┘"
      ]
     },
     "execution_count": 29,
     "metadata": {},
     "output_type": "execute_result"
    }
   ],
   "source": [
    "%%time\n",
    "count_pivot_periode('rsa@rsa')"
   ]
  },
  {
   "cell_type": "markdown",
   "id": "ddb0dca0-8faf-4537-866a-b12cf5203381",
   "metadata": {},
   "source": [
    "## vacuum, à faire\n",
    "\n",
    "Nettoyer régulièrement les fichiers parquet inutiles"
   ]
  },
  {
   "cell_type": "markdown",
   "id": "5568e904-6734-4d6e-a860-bc32b198bb16",
   "metadata": {},
   "source": [
    "# Tests\n",
    "\n",
    "On ne peut pas joindre les tables delta avec polars > on scan / filtre et on collecte les éléments par morceaux.\n",
    "\n",
    "Par morceaux, on entend : entre parenthèses, on collecte les lignes correspondants à la table `rsa@rsa`, puis la table `rsa@actes` et on joint ensuite ces deux tables.\n",
    "\n",
    "Dans notre exemple ici : \n",
    "\n",
    "- on s'intéresse aux séjours-RSS chirurgicaux (GHM type C), sortis en mai 2020\n",
    "- qui ont un acte de remplacement de l'articulation hanche ou genou par prothèse totale (actes N.KA), on filtre sur l'activité CCAM 1\n",
    "- on rajoutera une clause ensuite sur la présence d'un diagnostic S72, fracture du col du fémur en position principale du séjour (position = 1)\n",
    "\n",
    "<br>\n",
    "\n",
    "::: {.panel-tabset}\n",
    "\n",
    "\n",
    "## rsa\n",
    "\n",
    "``` {.python}\n",
    "# d'abord les rsa concernés par le filtre GHM C sortis en mai 2020\n",
    "(remote_table('rsa@rsa')\n",
    " .filter(pl.col('am') == '202005')\n",
    " .filter(pl.col('rsatype') == 'C')\n",
    " .unique()\n",
    " .collect()\n",
    ")\n",
    "```\n",
    "\n",
    "## actes\n",
    "\n",
    "``` {.python}\n",
    "# Ensuite les actes correspondants au pattern\n",
    "(remote_table('rsa@actes')\n",
    " .filter((pl.col('am') == '202005')) \n",
    " .filter(pl.col('cdccam').str.contains('N.KA'))\n",
    " .filter(pl.col('act') == '1')\n",
    " .unique()\n",
    " .collect()\n",
    ")\n",
    "```\n",
    "\n",
    "## diagnostics\n",
    "\n",
    "``` {.python}\n",
    "# Et la table des diagnostics\n",
    "(remote_table('rsa@diags')\n",
    " .filter((pl.col('am') == '202005')) \n",
    " .filter(pl.col('diag').str.contains('S72'))\n",
    " .filter(pl.col('position') == 1)\n",
    " .select('cle_rsa')\n",
    " .unique()\n",
    " .collect()\n",
    ")\n",
    "```\n",
    "\n",
    ":::\n"
   ]
  },
  {
   "cell_type": "markdown",
   "id": "e037585c-17b1-4530-bc5c-5bdff669c250",
   "metadata": {},
   "source": [
    "## rsa partie fixe & actes"
   ]
  },
  {
   "cell_type": "code",
   "execution_count": 18,
   "id": "6a0372f0-dea8-4f3d-aa18-720fabb8ab55",
   "metadata": {},
   "outputs": [
    {
     "name": "stdout",
     "output_type": "stream",
     "text": [
      "CPU times: user 978 ms, sys: 347 ms, total: 1.32 s\n",
      "Wall time: 463 ms\n"
     ]
    },
    {
     "data": {
      "text/html": [
       "<div><style>\n",
       ".dataframe > thead > tr,\n",
       ".dataframe > tbody > tr {\n",
       "  text-align: right;\n",
       "  white-space: pre-wrap;\n",
       "}\n",
       "</style>\n",
       "<small>shape: (1, 3)</small><table border=\"1\" class=\"dataframe\"><thead><tr><th>nofiness</th><th>am</th><th>count</th></tr><tr><td>str</td><td>str</td><td>u32</td></tr></thead><tbody><tr><td>&quot;290000017&quot;</td><td>&quot;202005&quot;</td><td>32</td></tr></tbody></table></div>"
      ],
      "text/plain": [
       "shape: (1, 3)\n",
       "┌───────────┬────────┬───────┐\n",
       "│ nofiness  ┆ am     ┆ count │\n",
       "│ ---       ┆ ---    ┆ ---   │\n",
       "│ str       ┆ str    ┆ u32   │\n",
       "╞═══════════╪════════╪═══════╡\n",
       "│ 290000017 ┆ 202005 ┆ 32    │\n",
       "└───────────┴────────┴───────┘"
      ]
     },
     "execution_count": 18,
     "metadata": {},
     "output_type": "execute_result"
    }
   ],
   "source": [
    "%%time\n",
    "# Jointure entre la table des RSA partie fixe et la table des actes\n",
    "(remote_table('rsa@rsa')\n",
    " .filter(pl.col('am') == '202005')\n",
    " .filter(pl.col('rsatype') == 'C')\n",
    " .unique()\n",
    " .collect()\n",
    ").join(\n",
    "(remote_table('rsa@actes')\n",
    " .filter((pl.col('am') == '202005')) \n",
    " .filter(pl.col('cdccam').str.contains('N.KA'))\n",
    " .filter(pl.col('act') == '1')\n",
    " .unique()\n",
    " .collect()\n",
    "), on = 'cle_rsa', how = 'inner'\n",
    ").group_by('nofiness', 'am').agg(pl.col('cle_rsa').n_unique().alias('count'))"
   ]
  },
  {
   "cell_type": "markdown",
   "id": "4c7f2e61-4d55-4f18-820d-e15f1e4fe6fd",
   "metadata": {},
   "source": [
    "En alternative, on peut aussi utiliser les colonnes \"stream\" de la table RSA qui contiennent tous les actes, diags et permettent d'éviter de faire des jointures entre plusieurs tables quand l'information souhaitée est juste (présence ou absence de l'acte, du diag, etc.), c'est ce qui est fait ci-dessous"
   ]
  },
  {
   "cell_type": "code",
   "execution_count": 19,
   "id": "6c1149bc-43d5-4b5e-8d2d-8f61ca39ad18",
   "metadata": {},
   "outputs": [
    {
     "name": "stdout",
     "output_type": "stream",
     "text": [
      "CPU times: user 1.05 s, sys: 252 ms, total: 1.3 s\n",
      "Wall time: 431 ms\n"
     ]
    },
    {
     "data": {
      "text/html": [
       "<div><style>\n",
       ".dataframe > thead > tr,\n",
       ".dataframe > tbody > tr {\n",
       "  text-align: right;\n",
       "  white-space: pre-wrap;\n",
       "}\n",
       "</style>\n",
       "<small>shape: (1, 3)</small><table border=\"1\" class=\"dataframe\"><thead><tr><th>nofiness</th><th>am</th><th>count</th></tr><tr><td>str</td><td>str</td><td>u32</td></tr></thead><tbody><tr><td>&quot;290000017&quot;</td><td>&quot;202005&quot;</td><td>32</td></tr></tbody></table></div>"
      ],
      "text/plain": [
       "shape: (1, 3)\n",
       "┌───────────┬────────┬───────┐\n",
       "│ nofiness  ┆ am     ┆ count │\n",
       "│ ---       ┆ ---    ┆ ---   │\n",
       "│ str       ┆ str    ┆ u32   │\n",
       "╞═══════════╪════════╪═══════╡\n",
       "│ 290000017 ┆ 202005 ┆ 32    │\n",
       "└───────────┴────────┴───────┘"
      ]
     },
     "execution_count": 19,
     "metadata": {},
     "output_type": "execute_result"
    }
   ],
   "source": [
    "%%time\n",
    "# alternative en utilisant la zone \"stream\" des actes en ligne\n",
    "(remote_table('rsa@rsa')\n",
    " .filter(\n",
    "     (pl.col('am') == '202005') & \n",
    "     (pl.col('rsatype') == 'C') & \n",
    "         (pl.col('stream_actes').str.contains('N.KA')))\n",
    " .unique()\n",
    " .collect()\n",
    ").group_by('nofiness', 'am').agg(pl.col('cle_rsa').n_unique().alias('count'))"
   ]
  },
  {
   "cell_type": "markdown",
   "id": "f53f725e-a166-4435-b76c-9dfe69394aa4",
   "metadata": {},
   "source": [
    "## rsa partie fixe & actes & diags\n",
    "\n",
    "On ajoute la clause sur le diagnostic principal S72\n",
    "\n",
    "<br>\n"
   ]
  },
  {
   "cell_type": "code",
   "execution_count": 20,
   "id": "62a8fd80-89cc-4e2e-9e66-9a5422a8d199",
   "metadata": {},
   "outputs": [
    {
     "name": "stdout",
     "output_type": "stream",
     "text": [
      "CPU times: user 1.27 s, sys: 179 ms, total: 1.44 s\n",
      "Wall time: 507 ms\n"
     ]
    },
    {
     "data": {
      "text/html": [
       "<div><style>\n",
       ".dataframe > thead > tr,\n",
       ".dataframe > tbody > tr {\n",
       "  text-align: right;\n",
       "  white-space: pre-wrap;\n",
       "}\n",
       "</style>\n",
       "<small>shape: (1, 3)</small><table border=\"1\" class=\"dataframe\"><thead><tr><th>nofiness</th><th>am</th><th>count</th></tr><tr><td>str</td><td>str</td><td>u32</td></tr></thead><tbody><tr><td>&quot;290000017&quot;</td><td>&quot;202005&quot;</td><td>14</td></tr></tbody></table></div>"
      ],
      "text/plain": [
       "shape: (1, 3)\n",
       "┌───────────┬────────┬───────┐\n",
       "│ nofiness  ┆ am     ┆ count │\n",
       "│ ---       ┆ ---    ┆ ---   │\n",
       "│ str       ┆ str    ┆ u32   │\n",
       "╞═══════════╪════════╪═══════╡\n",
       "│ 290000017 ┆ 202005 ┆ 14    │\n",
       "└───────────┴────────┴───────┘"
      ]
     },
     "execution_count": 20,
     "metadata": {},
     "output_type": "execute_result"
    }
   ],
   "source": [
    "%%time\n",
    "# Jointure entre la table des RSA partie fixe et la table des actes\n",
    "(remote_table('rsa@rsa')\n",
    " .filter(pl.col('am') == '202005')\n",
    " .filter(pl.col('rsatype') == 'C')\n",
    " .unique()\n",
    " .collect()\n",
    ").join(\n",
    "(remote_table('rsa@actes')\n",
    " .filter((pl.col('am') == '202005')) \n",
    " .filter(pl.col('cdccam').str.contains('N.KA'))\n",
    " .filter(pl.col('act') == '1')\n",
    " .unique()\n",
    " .collect()\n",
    "), on = 'cle_rsa', how = 'inner'\n",
    ").join(\n",
    "(remote_table('rsa@diags')\n",
    " .filter((pl.col('am') == '202005')) \n",
    " .filter(pl.col('diag').str.contains('S72'))\n",
    " .filter(pl.col('position') == 1)\n",
    " .select('cle_rsa')\n",
    " .unique()\n",
    " .collect()\n",
    "), on = 'cle_rsa', how = 'inner'\n",
    ").group_by('nofiness', 'am').agg(pl.col('cle_rsa').n_unique().alias('count'))"
   ]
  },
  {
   "cell_type": "code",
   "execution_count": 21,
   "id": "5bfade91-b925-4b05-96b2-32b45e0cfcf0",
   "metadata": {},
   "outputs": [
    {
     "name": "stdout",
     "output_type": "stream",
     "text": [
      "CPU times: user 1.04 s, sys: 148 ms, total: 1.18 s\n",
      "Wall time: 389 ms\n"
     ]
    },
    {
     "data": {
      "text/html": [
       "<div><style>\n",
       ".dataframe > thead > tr,\n",
       ".dataframe > tbody > tr {\n",
       "  text-align: right;\n",
       "  white-space: pre-wrap;\n",
       "}\n",
       "</style>\n",
       "<small>shape: (1, 3)</small><table border=\"1\" class=\"dataframe\"><thead><tr><th>nofiness</th><th>am</th><th>len</th></tr><tr><td>str</td><td>str</td><td>u32</td></tr></thead><tbody><tr><td>&quot;290000017&quot;</td><td>&quot;202005&quot;</td><td>14</td></tr></tbody></table></div>"
      ],
      "text/plain": [
       "shape: (1, 3)\n",
       "┌───────────┬────────┬─────┐\n",
       "│ nofiness  ┆ am     ┆ len │\n",
       "│ ---       ┆ ---    ┆ --- │\n",
       "│ str       ┆ str    ┆ u32 │\n",
       "╞═══════════╪════════╪═════╡\n",
       "│ 290000017 ┆ 202005 ┆ 14  │\n",
       "└───────────┴────────┴─────┘"
      ]
     },
     "execution_count": 21,
     "metadata": {},
     "output_type": "execute_result"
    }
   ],
   "source": [
    "%%time\n",
    "# alternative en utilisant la zone \"stream\" des actes en ligne, et la colonne dp\n",
    "(remote_table('rsa@rsa')\n",
    " .filter(\n",
    "     (pl.col('am') == '202005') & \n",
    "     (pl.col('rsatype') == 'C') & \n",
    "         (pl.col('stream_actes').str.contains('N.KA')) & \n",
    "         (pl.col('dp').str.contains('S72')))\n",
    " .unique()\n",
    " .collect()\n",
    ").group_by('nofiness', 'am').len()"
   ]
  },
  {
   "cell_type": "markdown",
   "id": "16e1b5ca-2671-4d69-8cf7-7301e5cdcc96",
   "metadata": {},
   "source": [
    "## Nombre de lignes / colonnes des tables\n",
    "\n",
    "\n",
    "**Après avoir enlevé 2023 M04**"
   ]
  },
  {
   "cell_type": "code",
   "execution_count": 22,
   "id": "50d8e2e2-6afe-4927-bddd-26980a5bd382",
   "metadata": {},
   "outputs": [
    {
     "data": {
      "text/plain": [
       "(816519, 108)"
      ]
     },
     "execution_count": 22,
     "metadata": {},
     "output_type": "execute_result"
    }
   ],
   "source": [
    "remote_table('rsa@rsa').collect().shape"
   ]
  },
  {
   "cell_type": "code",
   "execution_count": 23,
   "id": "b310f822-de66-4163-8f34-9925d641fdb3",
   "metadata": {},
   "outputs": [
    {
     "data": {
      "text/plain": [
       "(2818046, 19)"
      ]
     },
     "execution_count": 23,
     "metadata": {},
     "output_type": "execute_result"
    }
   ],
   "source": [
    "remote_table('rsa@actes').collect().shape"
   ]
  },
  {
   "cell_type": "code",
   "execution_count": 24,
   "id": "ac12a95a-0ab5-4433-9d94-eb3487942d8b",
   "metadata": {},
   "outputs": [
    {
     "data": {
      "text/plain": [
       "(4972199, 10)"
      ]
     },
     "execution_count": 24,
     "metadata": {},
     "output_type": "execute_result"
    }
   ],
   "source": [
    "remote_table('rsa@diags').collect().shape"
   ]
  },
  {
   "cell_type": "code",
   "execution_count": 25,
   "id": "eae95bbf-453d-4a76-9f2c-e742161f8e69",
   "metadata": {},
   "outputs": [
    {
     "data": {
      "text/plain": [
       "(912675, 23)"
      ]
     },
     "execution_count": 25,
     "metadata": {},
     "output_type": "execute_result"
    }
   ],
   "source": [
    "remote_table('rsa@rsa_um').collect().shape"
   ]
  },
  {
   "cell_type": "markdown",
   "id": "693eba69-9b65-42af-92d0-bd75ce0aebb7",
   "metadata": {},
   "source": [
    "# Description des rsa\n",
    "\n",
    "Avec la fonction `describle` de `polars` on affiche des statistiques surles données rsa.\n",
    "\n",
    "Le choix a été fait d'ordonner les colonnes par ordre alphabétique.\n"
   ]
  },
  {
   "cell_type": "code",
   "execution_count": 26,
   "id": "3cbdc396-6971-4e9e-a937-9a4833cfaafa",
   "metadata": {},
   "outputs": [
    {
     "data": {
      "text/html": [
       "<div><style>\n",
       ".dataframe > thead > tr,\n",
       ".dataframe > tbody > tr {\n",
       "  text-align: right;\n",
       "  white-space: pre-wrap;\n",
       "}\n",
       "</style>\n",
       "<small>shape: (9, 109)</small><table border=\"1\" class=\"dataframe\"><thead><tr><th>statistic</th><th>admission_maison_naissance</th><th>adnp75</th><th>agean</th><th>agegest</th><th>agejr</th><th>am</th><th>anivgprec</th><th>anseqta</th><th>ansor</th><th>cat_nb_intervenants</th><th>cdgeo</th><th>cdpostal</th><th>cdpu</th><th>cle_rsa</th><th>confcdsej</th><th>conversion_hc</th><th>delaireg</th><th>dest</th><th>dp</th><th>dr</th><th>dtent</th><th>dtsort</th><th>duree</th><th>echpmsi</th><th>ell_forf_diabete</th><th>ell_gradation</th><th>genautorsa</th><th>ghm</th><th>ghm1</th><th>ghshorsinno</th><th>ghsminore</th><th>gpcdretr</th><th>gpcmd</th><th>gpcompx</th><th>gpnum</th><th>gptype</th><th>&hellip;</th><th>novrsa</th><th>novrss</th><th>numinno</th><th>paslitsp</th><th>pc_raac</th><th>periode</th><th>poids</th><th>prov</th><th>rescrit_tarifaire</th><th>resererve_hosp</th><th>rsacdretr</th><th>rsacmd</th><th>rsacompx</th><th>rsanum</th><th>rsatype</th><th>rsavclass</th><th>schpmsi</th><th>sejinfbi</th><th>sexe</th><th>stream_actes</th><th>stream_das</th><th>stream_dpum</th><th>stream_drum</th><th>stream_um</th><th>suppdefcard</th><th>surveillance_particuliere</th><th>topadmnais</th><th>topctc</th><th>topradalimta</th><th>topradavastin</th><th>typedosim</th><th>typesej</th><th>typmachradio</th><th>typrestpo</th><th>uhcd</th><th>valvaort</th><th>zrdth</th></tr><tr><td>str</td><td>str</td><td>str</td><td>f64</td><td>f64</td><td>f64</td><td>str</td><td>str</td><td>str</td><td>str</td><td>str</td><td>str</td><td>str</td><td>str</td><td>str</td><td>str</td><td>str</td><td>f64</td><td>str</td><td>str</td><td>str</td><td>str</td><td>str</td><td>f64</td><td>str</td><td>str</td><td>str</td><td>str</td><td>str</td><td>str</td><td>str</td><td>str</td><td>str</td><td>str</td><td>str</td><td>str</td><td>str</td><td>&hellip;</td><td>str</td><td>str</td><td>str</td><td>str</td><td>str</td><td>str</td><td>f64</td><td>str</td><td>str</td><td>str</td><td>str</td><td>str</td><td>str</td><td>str</td><td>str</td><td>str</td><td>str</td><td>str</td><td>str</td><td>str</td><td>str</td><td>str</td><td>str</td><td>str</td><td>str</td><td>str</td><td>str</td><td>str</td><td>str</td><td>str</td><td>str</td><td>str</td><td>str</td><td>str</td><td>str</td><td>str</td><td>str</td></tr></thead><tbody><tr><td>&quot;count&quot;</td><td>&quot;268230&quot;</td><td>&quot;345&quot;</td><td>788647.0</td><td>31919.0</td><td>27872.0</td><td>&quot;816519&quot;</td><td>&quot;78064&quot;</td><td>&quot;816519&quot;</td><td>&quot;816519&quot;</td><td>&quot;8339&quot;</td><td>&quot;816519&quot;</td><td>&quot;268230&quot;</td><td>&quot;0&quot;</td><td>&quot;816519&quot;</td><td>&quot;742&quot;</td><td>&quot;393&quot;</td><td>25849.0</td><td>&quot;57401&quot;</td><td>&quot;816519&quot;</td><td>&quot;393904&quot;</td><td>&quot;816519&quot;</td><td>&quot;816519&quot;</td><td>816519.0</td><td>&quot;816519&quot;</td><td>&quot;64939&quot;</td><td>&quot;154651&quot;</td><td>&quot;674035&quot;</td><td>&quot;816519&quot;</td><td>&quot;816519&quot;</td><td>&quot;601571&quot;</td><td>&quot;655769&quot;</td><td>&quot;816519&quot;</td><td>&quot;816519&quot;</td><td>&quot;816519&quot;</td><td>&quot;816519&quot;</td><td>&quot;816519&quot;</td><td>&hellip;</td><td>&quot;816519&quot;</td><td>&quot;816519&quot;</td><td>&quot;5&quot;</td><td>&quot;816519&quot;</td><td>&quot;333169&quot;</td><td>&quot;816519&quot;</td><td>18270.0</td><td>&quot;190281&quot;</td><td>&quot;0&quot;</td><td>&quot;3996&quot;</td><td>&quot;816519&quot;</td><td>&quot;816519&quot;</td><td>&quot;816519&quot;</td><td>&quot;816519&quot;</td><td>&quot;816519&quot;</td><td>&quot;816519&quot;</td><td>&quot;816519&quot;</td><td>&quot;816519&quot;</td><td>&quot;816519&quot;</td><td>&quot;626615&quot;</td><td>&quot;419122&quot;</td><td>&quot;816519&quot;</td><td>&quot;397444&quot;</td><td>&quot;816519&quot;</td><td>&quot;503187&quot;</td><td>&quot;9761&quot;</td><td>&quot;0&quot;</td><td>&quot;0&quot;</td><td>&quot;0&quot;</td><td>&quot;582256&quot;</td><td>&quot;155923&quot;</td><td>&quot;966&quot;</td><td>&quot;122544&quot;</td><td>&quot;816519&quot;</td><td>&quot;816519&quot;</td><td>&quot;1117&quot;</td><td>&quot;4299&quot;</td></tr><tr><td>&quot;null_count&quot;</td><td>&quot;548289&quot;</td><td>&quot;816174&quot;</td><td>27872.0</td><td>784600.0</td><td>788647.0</td><td>&quot;0&quot;</td><td>&quot;738455&quot;</td><td>&quot;0&quot;</td><td>&quot;0&quot;</td><td>&quot;808180&quot;</td><td>&quot;0&quot;</td><td>&quot;548289&quot;</td><td>&quot;816519&quot;</td><td>&quot;0&quot;</td><td>&quot;815777&quot;</td><td>&quot;816126&quot;</td><td>790670.0</td><td>&quot;759118&quot;</td><td>&quot;0&quot;</td><td>&quot;422615&quot;</td><td>&quot;0&quot;</td><td>&quot;0&quot;</td><td>0.0</td><td>&quot;0&quot;</td><td>&quot;751580&quot;</td><td>&quot;661868&quot;</td><td>&quot;142484&quot;</td><td>&quot;0&quot;</td><td>&quot;0&quot;</td><td>&quot;214948&quot;</td><td>&quot;160750&quot;</td><td>&quot;0&quot;</td><td>&quot;0&quot;</td><td>&quot;0&quot;</td><td>&quot;0&quot;</td><td>&quot;0&quot;</td><td>&hellip;</td><td>&quot;0&quot;</td><td>&quot;0&quot;</td><td>&quot;816514&quot;</td><td>&quot;0&quot;</td><td>&quot;483350&quot;</td><td>&quot;0&quot;</td><td>798249.0</td><td>&quot;626238&quot;</td><td>&quot;816519&quot;</td><td>&quot;812523&quot;</td><td>&quot;0&quot;</td><td>&quot;0&quot;</td><td>&quot;0&quot;</td><td>&quot;0&quot;</td><td>&quot;0&quot;</td><td>&quot;0&quot;</td><td>&quot;0&quot;</td><td>&quot;0&quot;</td><td>&quot;0&quot;</td><td>&quot;189904&quot;</td><td>&quot;397397&quot;</td><td>&quot;0&quot;</td><td>&quot;419075&quot;</td><td>&quot;0&quot;</td><td>&quot;313332&quot;</td><td>&quot;806758&quot;</td><td>&quot;816519&quot;</td><td>&quot;816519&quot;</td><td>&quot;816519&quot;</td><td>&quot;234263&quot;</td><td>&quot;660596&quot;</td><td>&quot;815553&quot;</td><td>&quot;693975&quot;</td><td>&quot;0&quot;</td><td>&quot;0&quot;</td><td>&quot;815402&quot;</td><td>&quot;812220&quot;</td></tr><tr><td>&quot;mean&quot;</td><td>null</td><td>null</td><td>58.678246</td><td>38.513675</td><td>55.50653</td><td>null</td><td>null</td><td>null</td><td>null</td><td>null</td><td>null</td><td>null</td><td>null</td><td>null</td><td>null</td><td>null</td><td>215.117722</td><td>null</td><td>null</td><td>null</td><td>&quot;2018-03-18 07:32:21.772000&quot;</td><td>&quot;2018-03-20 21:00:43.053000&quot;</td><td>2.561357</td><td>null</td><td>null</td><td>null</td><td>null</td><td>null</td><td>null</td><td>null</td><td>null</td><td>null</td><td>null</td><td>null</td><td>null</td><td>null</td><td>&hellip;</td><td>null</td><td>null</td><td>null</td><td>null</td><td>null</td><td>null</td><td>3183.633881</td><td>null</td><td>null</td><td>null</td><td>null</td><td>null</td><td>null</td><td>null</td><td>null</td><td>null</td><td>null</td><td>null</td><td>null</td><td>null</td><td>null</td><td>null</td><td>null</td><td>null</td><td>null</td><td>null</td><td>null</td><td>null</td><td>null</td><td>null</td><td>null</td><td>null</td><td>null</td><td>null</td><td>null</td><td>null</td><td>null</td></tr><tr><td>&quot;std&quot;</td><td>null</td><td>null</td><td>21.56475</td><td>2.825167</td><td>94.605443</td><td>null</td><td>null</td><td>null</td><td>null</td><td>null</td><td>null</td><td>null</td><td>null</td><td>null</td><td>null</td><td>null</td><td>86.785808</td><td>null</td><td>null</td><td>null</td><td>null</td><td>null</td><td>6.34697</td><td>null</td><td>null</td><td>null</td><td>null</td><td>null</td><td>null</td><td>null</td><td>null</td><td>null</td><td>null</td><td>null</td><td>null</td><td>null</td><td>&hellip;</td><td>null</td><td>null</td><td>null</td><td>null</td><td>null</td><td>null</td><td>712.20168</td><td>null</td><td>null</td><td>null</td><td>null</td><td>null</td><td>null</td><td>null</td><td>null</td><td>null</td><td>null</td><td>null</td><td>null</td><td>null</td><td>null</td><td>null</td><td>null</td><td>null</td><td>null</td><td>null</td><td>null</td><td>null</td><td>null</td><td>null</td><td>null</td><td>null</td><td>null</td><td>null</td><td>null</td><td>null</td><td>null</td></tr><tr><td>&quot;min&quot;</td><td>&quot;0&quot;</td><td>&quot;1&quot;</td><td>1.0</td><td>17.0</td><td>0.0</td><td>&quot;201301&quot;</td><td>&quot;0&quot;</td><td>&quot;2012&quot;</td><td>&quot;2013&quot;</td><td>&quot;A&quot;</td><td>&quot;1000&quot;</td><td>&quot;1170&quot;</td><td>null</td><td>&quot;1&quot;</td><td>&quot;1&quot;</td><td>&quot;1&quot;</td><td>0.0</td><td>&quot;1&quot;</td><td>&quot;A010&quot;</td><td>&quot;A010&quot;</td><td>&quot;2012-04-23&quot;</td><td>&quot;2013-01-01&quot;</td><td>0.0</td><td>&quot;0&quot;</td><td>&quot;0&quot;</td><td>&quot;0&quot;</td><td>&quot;0&quot;</td><td>&quot;01C031&quot;</td><td>&quot;01C031&quot;</td><td>&quot;22&quot;</td><td>&quot;0&quot;</td><td>&quot;0&quot;</td><td>&quot;1&quot;</td><td>&quot;1&quot;</td><td>&quot;0&quot;</td><td>&quot;C&quot;</td><td>&hellip;</td><td>&quot;220&quot;</td><td>&quot;116&quot;</td><td>&quot;INNOV1441001H&quot;</td><td>&quot;0&quot;</td><td>&quot;0&quot;</td><td>&quot;201301&quot;</td><td>100.0</td><td>&quot;1&quot;</td><td>null</td><td>&quot;1&quot;</td><td>&quot;0&quot;</td><td>&quot;1&quot;</td><td>&quot;1&quot;</td><td>&quot;2&quot;</td><td>&quot;C&quot;</td><td>&quot;11&quot;</td><td>&quot;0&quot;</td><td>&quot;0&quot;</td><td>&quot;1&quot;</td><td>&quot;AAFA001, ACQK001, YYYY467, ZZQ…</td><td>&quot;A022&quot;</td><td>&quot;A010&quot;</td><td>&quot;, A169&quot;</td><td>&quot;00 C, 29 M&quot;</td><td>&quot;0&quot;</td><td>&quot;1&quot;</td><td>null</td><td>null</td><td>null</td><td>&quot;0&quot;</td><td>&quot;1&quot;</td><td>&quot;A&quot;</td><td>&quot;1&quot;</td><td>&quot;0&quot;</td><td>&quot;0&quot;</td><td>&quot;1&quot;</td><td>&quot;9620001&quot;</td></tr><tr><td>&quot;25%&quot;</td><td>null</td><td>null</td><td>48.0</td><td>38.0</td><td>0.0</td><td>null</td><td>null</td><td>null</td><td>null</td><td>null</td><td>null</td><td>null</td><td>null</td><td>null</td><td>null</td><td>null</td><td>168.0</td><td>null</td><td>null</td><td>null</td><td>&quot;2015-10-24&quot;</td><td>&quot;2015-10-27&quot;</td><td>0.0</td><td>null</td><td>null</td><td>null</td><td>null</td><td>null</td><td>null</td><td>null</td><td>null</td><td>null</td><td>null</td><td>null</td><td>null</td><td>null</td><td>&hellip;</td><td>null</td><td>null</td><td>null</td><td>null</td><td>null</td><td>null</td><td>2870.0</td><td>null</td><td>null</td><td>null</td><td>null</td><td>null</td><td>null</td><td>null</td><td>null</td><td>null</td><td>null</td><td>null</td><td>null</td><td>null</td><td>null</td><td>null</td><td>null</td><td>null</td><td>null</td><td>null</td><td>null</td><td>null</td><td>null</td><td>null</td><td>null</td><td>null</td><td>null</td><td>null</td><td>null</td><td>null</td><td>null</td></tr><tr><td>&quot;50%&quot;</td><td>null</td><td>null</td><td>63.0</td><td>39.0</td><td>0.0</td><td>null</td><td>null</td><td>null</td><td>null</td><td>null</td><td>null</td><td>null</td><td>null</td><td>null</td><td>null</td><td>null</td><td>263.0</td><td>null</td><td>null</td><td>null</td><td>&quot;2018-04-30&quot;</td><td>&quot;2018-05-03&quot;</td><td>0.0</td><td>null</td><td>null</td><td>null</td><td>null</td><td>null</td><td>null</td><td>null</td><td>null</td><td>null</td><td>null</td><td>null</td><td>null</td><td>null</td><td>&hellip;</td><td>null</td><td>null</td><td>null</td><td>null</td><td>null</td><td>null</td><td>3280.0</td><td>null</td><td>null</td><td>null</td><td>null</td><td>null</td><td>null</td><td>null</td><td>null</td><td>null</td><td>null</td><td>null</td><td>null</td><td>null</td><td>null</td><td>null</td><td>null</td><td>null</td><td>null</td><td>null</td><td>null</td><td>null</td><td>null</td><td>null</td><td>null</td><td>null</td><td>null</td><td>null</td><td>null</td><td>null</td><td>null</td></tr><tr><td>&quot;75%&quot;</td><td>null</td><td>null</td><td>74.0</td><td>40.0</td><td>72.0</td><td>null</td><td>null</td><td>null</td><td>null</td><td>null</td><td>null</td><td>null</td><td>null</td><td>null</td><td>null</td><td>null</td><td>279.0</td><td>null</td><td>null</td><td>null</td><td>&quot;2020-10-02&quot;</td><td>&quot;2020-10-06&quot;</td><td>3.0</td><td>null</td><td>null</td><td>null</td><td>null</td><td>null</td><td>null</td><td>null</td><td>null</td><td>null</td><td>null</td><td>null</td><td>null</td><td>null</td><td>&hellip;</td><td>null</td><td>null</td><td>null</td><td>null</td><td>null</td><td>null</td><td>3630.0</td><td>null</td><td>null</td><td>null</td><td>null</td><td>null</td><td>null</td><td>null</td><td>null</td><td>null</td><td>null</td><td>null</td><td>null</td><td>null</td><td>null</td><td>null</td><td>null</td><td>null</td><td>null</td><td>null</td><td>null</td><td>null</td><td>null</td><td>null</td><td>null</td><td>null</td><td>null</td><td>null</td><td>null</td><td>null</td><td>null</td></tr><tr><td>&quot;max&quot;</td><td>&quot;0&quot;</td><td>&quot;2&quot;</td><td>119.0</td><td>44.0</td><td>365.0</td><td>&quot;202211&quot;</td><td>&quot;2014&quot;</td><td>&quot;2022&quot;</td><td>&quot;2022&quot;</td><td>&quot;C&quot;</td><td>&quot;9JC04&quot;</td><td>&quot;99422&quot;</td><td>null</td><td>&quot;141901&quot;</td><td>&quot;2&quot;</td><td>&quot;2&quot;</td><td>999.0</td><td>&quot;7&quot;</td><td>&quot;Z998&quot;</td><td>&quot;Z992+1&quot;</td><td>&quot;2022-11-30&quot;</td><td>&quot;2022-11-30&quot;</td><td>466.0</td><td>&quot;N&quot;</td><td>&quot;0&quot;</td><td>&quot;1&quot;</td><td>&quot;0&quot;</td><td>&quot;28Z24Z&quot;</td><td>&quot;28Z24Z&quot;</td><td>&quot;9999&quot;</td><td>&quot;1&quot;</td><td>&quot;252&quot;</td><td>&quot;90&quot;</td><td>&quot;Z&quot;</td><td>&quot;62&quot;</td><td>&quot;Z&quot;</td><td>&hellip;</td><td>&quot;227&quot;</td><td>&quot;121&quot;</td><td>&quot;INNOV1941008Z&quot;</td><td>&quot;1&quot;</td><td>&quot;2&quot;</td><td>&quot;202211&quot;</td><td>6640.0</td><td>&quot;U&quot;</td><td>null</td><td>&quot;2&quot;</td><td>&quot;252&quot;</td><td>&quot;28&quot;</td><td>&quot;Z&quot;</td><td>&quot;62&quot;</td><td>&quot;Z&quot;</td><td>&quot;11&quot;</td><td>&quot;9&quot;</td><td>&quot;2&quot;</td><td>&quot;2&quot;</td><td>&quot;ZZQX217, ZZQX162, HZHE002, HHQ…</td><td>&quot;Z998, Z993&quot;</td><td>&quot;Z998, T543&quot;</td><td>&quot;Z992+&quot;</td><td>&quot;88 P, 04 C&quot;</td><td>&quot;1&quot;</td><td>&quot;2&quot;</td><td>null</td><td>null</td><td>null</td><td>&quot;1&quot;</td><td>&quot;4&quot;</td><td>&quot;B&quot;</td><td>&quot;4&quot;</td><td>&quot;3&quot;</td><td>&quot;1&quot;</td><td>&quot;1&quot;</td><td>&quot;9632020&quot;</td></tr></tbody></table></div>"
      ],
      "text/plain": [
       "shape: (9, 109)\n",
       "┌────────────┬──────────────────┬────────┬───────────┬───┬───────────┬────────┬──────────┬─────────┐\n",
       "│ statistic  ┆ admission_maison ┆ adnp75 ┆ agean     ┆ … ┆ typrestpo ┆ uhcd   ┆ valvaort ┆ zrdth   │\n",
       "│ ---        ┆ _naissance       ┆ ---    ┆ ---       ┆   ┆ ---       ┆ ---    ┆ ---      ┆ ---     │\n",
       "│ str        ┆ ---              ┆ str    ┆ f64       ┆   ┆ str       ┆ str    ┆ str      ┆ str     │\n",
       "│            ┆ str              ┆        ┆           ┆   ┆           ┆        ┆          ┆         │\n",
       "╞════════════╪══════════════════╪════════╪═══════════╪═══╪═══════════╪════════╪══════════╪═════════╡\n",
       "│ count      ┆ 268230           ┆ 345    ┆ 788647.0  ┆ … ┆ 816519    ┆ 816519 ┆ 1117     ┆ 4299    │\n",
       "│ null_count ┆ 548289           ┆ 816174 ┆ 27872.0   ┆ … ┆ 0         ┆ 0      ┆ 815402   ┆ 812220  │\n",
       "│ mean       ┆ null             ┆ null   ┆ 58.678246 ┆ … ┆ null      ┆ null   ┆ null     ┆ null    │\n",
       "│ std        ┆ null             ┆ null   ┆ 21.56475  ┆ … ┆ null      ┆ null   ┆ null     ┆ null    │\n",
       "│ min        ┆ 0                ┆ 1      ┆ 1.0       ┆ … ┆ 0         ┆ 0      ┆ 1        ┆ 9620001 │\n",
       "│ 25%        ┆ null             ┆ null   ┆ 48.0      ┆ … ┆ null      ┆ null   ┆ null     ┆ null    │\n",
       "│ 50%        ┆ null             ┆ null   ┆ 63.0      ┆ … ┆ null      ┆ null   ┆ null     ┆ null    │\n",
       "│ 75%        ┆ null             ┆ null   ┆ 74.0      ┆ … ┆ null      ┆ null   ┆ null     ┆ null    │\n",
       "│ max        ┆ 0                ┆ 2      ┆ 119.0     ┆ … ┆ 3         ┆ 1      ┆ 1        ┆ 9632020 │\n",
       "└────────────┴──────────────────┴────────┴───────────┴───┴───────────┴────────┴──────────┴─────────┘"
      ]
     },
     "execution_count": 26,
     "metadata": {},
     "output_type": "execute_result"
    }
   ],
   "source": [
    "remote_table('rsa@rsa').collect().describe()"
   ]
  },
  {
   "cell_type": "markdown",
   "id": "998cdfa2-fd0a-4ee5-8c56-63920b0f490e",
   "metadata": {},
   "source": [
    "# Historique\n",
    "\n",
    "On peut retracer les types d'actions réalisées avec les fichiers de méta-données json."
   ]
  },
  {
   "cell_type": "code",
   "execution_count": 27,
   "id": "2a665efd-0bfa-4780-8862-8d1bdc9ffd9c",
   "metadata": {},
   "outputs": [
    {
     "data": {
      "text/plain": [
       "[{'timestamp': 1725830160223,\n",
       "  'operation': 'DELETE',\n",
       "  'operationParameters': {'predicate': '[\"moissor#7581 IN (03,06,09,12)\"]'},\n",
       "  'readVersion': 11,\n",
       "  'isolationLevel': 'Serializable',\n",
       "  'isBlindAppend': False,\n",
       "  'engineInfo': 'Apache-Spark/3.4.3 Delta-Lake/2.4.0',\n",
       "  'operationMetrics': {'executionTimeMs': '32936',\n",
       "   'numAddedBytes': '42490353',\n",
       "   'numAddedChangeFiles': '0',\n",
       "   'numAddedFiles': '10',\n",
       "   'numCopiedRows': '816519',\n",
       "   'numDeletedRows': '426077',\n",
       "   'numRemovedBytes': '69025074',\n",
       "   'numRemovedFiles': '10',\n",
       "   'rewriteTimeMs': '32476',\n",
       "   'scanTimeMs': '460'},\n",
       "  'txnId': '35d8d37b-cd5f-4ff3-b780-76f260da9392',\n",
       "  'version': 12},\n",
       " {'timestamp': 1725830121484,\n",
       "  'operation': 'DELETE',\n",
       "  'operationParameters': {'predicate': '[\"(ansor#45 = 2023)\"]'},\n",
       "  'readVersion': 10,\n",
       "  'isolationLevel': 'Serializable',\n",
       "  'isBlindAppend': False,\n",
       "  'engineInfo': 'Apache-Spark/3.4.3 Delta-Lake/2.4.0',\n",
       "  'txnId': '87d5d0fc-6b9c-49cb-9024-ea03a92d764d',\n",
       "  'operationMetrics': {'executionTimeMs': '4023',\n",
       "   'numAddedBytes': '0',\n",
       "   'numAddedChangeFiles': '0',\n",
       "   'numAddedFiles': '0',\n",
       "   'numCopiedRows': '0',\n",
       "   'numDeletedRows': '143463',\n",
       "   'numRemovedBytes': '7880925',\n",
       "   'numRemovedFiles': '1',\n",
       "   'rewriteTimeMs': '878',\n",
       "   'scanTimeMs': '3144'},\n",
       "  'version': 11},\n",
       " {'timestamp': 1725830110895,\n",
       "  'operation': 'WRITE',\n",
       "  'operationParameters': {'mode': 'Append'},\n",
       "  'clientVersion': 'delta-rs.0.19.1',\n",
       "  'operationMetrics': {'execution_time_ms': 269,\n",
       "   'num_added_files': 1,\n",
       "   'num_added_rows': 143463,\n",
       "   'num_partitions': 0,\n",
       "   'num_removed_files': 0},\n",
       "  'version': 10},\n",
       " {'timestamp': 1725830083480,\n",
       "  'operation': 'WRITE',\n",
       "  'operationParameters': {'mode': 'Append'},\n",
       "  'clientVersion': 'delta-rs.0.19.1',\n",
       "  'operationMetrics': {'execution_time_ms': 259,\n",
       "   'num_added_files': 1,\n",
       "   'num_added_rows': 141901,\n",
       "   'num_partitions': 0,\n",
       "   'num_removed_files': 0},\n",
       "  'version': 9},\n",
       " {'timestamp': 1725830056673,\n",
       "  'operation': 'WRITE',\n",
       "  'operationParameters': {'mode': 'Append'},\n",
       "  'operationMetrics': {'execution_time_ms': 258,\n",
       "   'num_added_files': 1,\n",
       "   'num_added_rows': 139680,\n",
       "   'num_partitions': 0,\n",
       "   'num_removed_files': 0},\n",
       "  'clientVersion': 'delta-rs.0.19.1',\n",
       "  'version': 8},\n",
       " {'timestamp': 1725830030232,\n",
       "  'operation': 'WRITE',\n",
       "  'operationParameters': {'mode': 'Append'},\n",
       "  'clientVersion': 'delta-rs.0.19.1',\n",
       "  'operationMetrics': {'execution_time_ms': 244,\n",
       "   'num_added_files': 1,\n",
       "   'num_added_rows': 128920,\n",
       "   'num_partitions': 0,\n",
       "   'num_removed_files': 0},\n",
       "  'version': 7},\n",
       " {'timestamp': 1725830005855,\n",
       "  'operation': 'WRITE',\n",
       "  'operationParameters': {'mode': 'Append'},\n",
       "  'operationMetrics': {'execution_time_ms': 238,\n",
       "   'num_added_files': 1,\n",
       "   'num_added_rows': 131460,\n",
       "   'num_partitions': 0,\n",
       "   'num_removed_files': 0},\n",
       "  'clientVersion': 'delta-rs.0.19.1',\n",
       "  'version': 6},\n",
       " {'timestamp': 1725829980922,\n",
       "  'operation': 'WRITE',\n",
       "  'operationParameters': {'mode': 'Append'},\n",
       "  'clientVersion': 'delta-rs.0.19.1',\n",
       "  'operationMetrics': {'execution_time_ms': 227,\n",
       "   'num_added_files': 1,\n",
       "   'num_added_rows': 128166,\n",
       "   'num_partitions': 0,\n",
       "   'num_removed_files': 0},\n",
       "  'version': 5},\n",
       " {'timestamp': 1725829956726,\n",
       "  'operation': 'WRITE',\n",
       "  'operationParameters': {'mode': 'Append'},\n",
       "  'clientVersion': 'delta-rs.0.19.1',\n",
       "  'operationMetrics': {'execution_time_ms': 223,\n",
       "   'num_added_files': 1,\n",
       "   'num_added_rows': 126934,\n",
       "   'num_partitions': 0,\n",
       "   'num_removed_files': 0},\n",
       "  'version': 4},\n",
       " {'timestamp': 1725829932609,\n",
       "  'operation': 'WRITE',\n",
       "  'operationParameters': {'mode': 'Append'},\n",
       "  'clientVersion': 'delta-rs.0.19.1',\n",
       "  'operationMetrics': {'execution_time_ms': 216,\n",
       "   'num_added_files': 1,\n",
       "   'num_added_rows': 119630,\n",
       "   'num_partitions': 0,\n",
       "   'num_removed_files': 0},\n",
       "  'version': 3},\n",
       " {'timestamp': 1725829909939,\n",
       "  'operation': 'WRITE',\n",
       "  'operationParameters': {'mode': 'Append'},\n",
       "  'clientVersion': 'delta-rs.0.19.1',\n",
       "  'operationMetrics': {'execution_time_ms': 196,\n",
       "   'num_added_files': 1,\n",
       "   'num_added_rows': 111186,\n",
       "   'num_partitions': 0,\n",
       "   'num_removed_files': 0},\n",
       "  'version': 2},\n",
       " {'timestamp': 1725829888762,\n",
       "  'operation': 'WRITE',\n",
       "  'operationParameters': {'mode': 'Append'},\n",
       "  'clientVersion': 'delta-rs.0.19.1',\n",
       "  'operationMetrics': {'execution_time_ms': 188,\n",
       "   'num_added_files': 1,\n",
       "   'num_added_rows': 108758,\n",
       "   'num_partitions': 0,\n",
       "   'num_removed_files': 0},\n",
       "  'version': 1},\n",
       " {'timestamp': 1725829868162,\n",
       "  'operation': 'WRITE',\n",
       "  'operationParameters': {'mode': 'Append'},\n",
       "  'operationMetrics': {'execution_time_ms': 182,\n",
       "   'num_added_files': 1,\n",
       "   'num_added_rows': 105961,\n",
       "   'num_partitions': 0,\n",
       "   'num_removed_files': 0},\n",
       "  'clientVersion': 'delta-rs.0.19.1',\n",
       "  'version': 0}]"
      ]
     },
     "execution_count": 27,
     "metadata": {},
     "output_type": "execute_result"
    }
   ],
   "source": [
    "from deltalake import DeltaTable as DDT\n",
    "dt = DDT(\"/Users/guillaumepressiat/Documents/data/delta/rsa/rsa\")\n",
    "dt.history()"
   ]
  },
  {
   "cell_type": "code",
   "execution_count": 28,
   "id": "fc130aeb-9ae1-4bd0-b237-55b4717c063f",
   "metadata": {},
   "outputs": [
    {
     "name": "stdout",
     "output_type": "stream",
     "text": [
      "\u001b[01;34m/Users/guillaumepressiat/Documents/data/delta/rsa/rsa\u001b[0m\n",
      "├── \u001b[01;34m_delta_log\u001b[0m\n",
      "│   ├── \u001b[00m00000000000000000000.json\u001b[0m\n",
      "│   ├── \u001b[00m00000000000000000001.json\u001b[0m\n",
      "│   ├── \u001b[00m00000000000000000002.json\u001b[0m\n",
      "│   ├── \u001b[00m00000000000000000003.json\u001b[0m\n",
      "│   ├── \u001b[00m00000000000000000004.json\u001b[0m\n",
      "│   ├── \u001b[00m00000000000000000005.json\u001b[0m\n",
      "│   ├── \u001b[00m00000000000000000006.json\u001b[0m\n",
      "│   ├── \u001b[00m00000000000000000007.json\u001b[0m\n",
      "│   ├── \u001b[00m00000000000000000008.json\u001b[0m\n",
      "│   ├── \u001b[00m00000000000000000009.json\u001b[0m\n",
      "│   ├── \u001b[00m00000000000000000010.json\u001b[0m\n",
      "│   ├── \u001b[00m00000000000000000011.json\u001b[0m\n",
      "│   └── \u001b[00m00000000000000000012.json\u001b[0m\n",
      "├── \u001b[00mpart-00000-7eb13227-ce82-497f-84fb-e767416c6016-c000.snappy.parquet\u001b[0m\n",
      "├── \u001b[00mpart-00000-d831c120-2af5-4a49-9599-958e815b00ad-c000.snappy.parquet\u001b[0m\n",
      "├── \u001b[00mpart-00001-0e6a7d99-4ffc-4775-8318-27178f63e39a-c000.snappy.parquet\u001b[0m\n",
      "├── \u001b[00mpart-00001-2ac368f0-6f07-4766-a06b-aaa20ad1d6a7-c000.snappy.parquet\u001b[0m\n",
      "├── \u001b[00mpart-00001-61fa5259-a82e-4256-b0eb-be26c19a1a29-c000.snappy.parquet\u001b[0m\n",
      "├── \u001b[00mpart-00001-76418848-c673-403d-9a7a-c773c856ee3c-c000.snappy.parquet\u001b[0m\n",
      "├── \u001b[00mpart-00001-77c542d0-ba31-4fdc-a30c-06c334fc3b5c-c000.snappy.parquet\u001b[0m\n",
      "├── \u001b[00mpart-00001-7b0eb38f-e0be-4eb4-8138-3dbf30978d4c-c000.snappy.parquet\u001b[0m\n",
      "├── \u001b[00mpart-00001-80b59950-28a5-4481-8b03-7dcbe88d4dae-c000.snappy.parquet\u001b[0m\n",
      "├── \u001b[00mpart-00001-9f431d18-d08a-4d2d-8557-e9a979699a90-c000.snappy.parquet\u001b[0m\n",
      "├── \u001b[00mpart-00001-ab213811-43bd-4a3a-9023-1c2912f038fa-c000.snappy.parquet\u001b[0m\n",
      "├── \u001b[00mpart-00001-caf7bf87-5b80-4df2-8b1e-fac7b836578a-c000.snappy.parquet\u001b[0m\n",
      "├── \u001b[00mpart-00001-d62c2a4e-4733-4754-982e-ef3cb1f7cb9b-c000.snappy.parquet\u001b[0m\n",
      "├── \u001b[00mpart-00001-fb057c18-9f16-4761-8631-27bbae0ae08e-c000.snappy.parquet\u001b[0m\n",
      "├── \u001b[00mpart-00002-779afa11-e83a-44dd-9c7d-12849d36d9f3-c000.snappy.parquet\u001b[0m\n",
      "├── \u001b[00mpart-00003-fdd6d234-ab8e-434e-9ab2-7d693451dafd-c000.snappy.parquet\u001b[0m\n",
      "├── \u001b[00mpart-00004-a206b937-6be0-4679-8a1e-918b49046047-c000.snappy.parquet\u001b[0m\n",
      "├── \u001b[00mpart-00005-7557bc83-6022-484e-a4e5-f464160d49aa-c000.snappy.parquet\u001b[0m\n",
      "├── \u001b[00mpart-00006-8c380bc5-f433-4e24-b713-f4ef67cbdf4d-c000.snappy.parquet\u001b[0m\n",
      "├── \u001b[00mpart-00007-bc244fe1-7a8e-4278-9698-4e3af583f873-c000.snappy.parquet\u001b[0m\n",
      "├── \u001b[00mpart-00008-b867aaf6-c4e9-417d-9d12-d0f0862c2bab-c000.snappy.parquet\u001b[0m\n",
      "└── \u001b[00mpart-00009-a60554e9-66b9-465b-8b31-f55ab0e81a4d-c000.snappy.parquet\u001b[0m\n",
      "\n",
      "2 directories, 35 files\n"
     ]
    },
    {
     "data": {
      "text/plain": [
       "0"
      ]
     },
     "execution_count": 28,
     "metadata": {},
     "output_type": "execute_result"
    }
   ],
   "source": [
    "from os import system\n",
    "\n",
    "system('tree /Users/guillaumepressiat/Documents/data/delta/rsa/rsa')"
   ]
  }
 ],
 "metadata": {
  "kernelspec": {
   "display_name": "Python 3 (ipykernel)",
   "language": "python",
   "name": "python3"
  },
  "language_info": {
   "codemirror_mode": {
    "name": "ipython",
    "version": 3
   },
   "file_extension": ".py",
   "mimetype": "text/x-python",
   "name": "python",
   "nbconvert_exporter": "python",
   "pygments_lexer": "ipython3",
   "version": "3.11.10"
  }
 },
 "nbformat": 4,
 "nbformat_minor": 5
}
